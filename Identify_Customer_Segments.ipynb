{
 "cells": [
  {
   "cell_type": "markdown",
   "metadata": {},
   "source": [
    "# Project: Identify Customer Segments\n",
    "\n",
    "In this project, you will apply unsupervised learning techniques to identify segments of the population that form the core customer base for a mail-order sales company in Germany. These segments can then be used to direct marketing campaigns towards audiences that will have the highest expected rate of returns. The data that you will use has been provided by our partners at Bertelsmann Arvato Analytics, and represents a real-life data science task.\n",
    "\n",
    "This notebook will help you complete this task by providing a framework within which you will perform your analysis steps. In each step of the project, you will see some text describing the subtask that you will perform, followed by one or more code cells for you to complete your work. **Feel free to add additional code and markdown cells as you go along so that you can explore everything in precise chunks.** The code cells provided in the base template will outline only the major tasks, and will usually not be enough to cover all of the minor tasks that comprise it.\n",
    "\n",
    "It should be noted that while there will be precise guidelines on how you should handle certain tasks in the project, there will also be places where an exact specification is not provided. **There will be times in the project where you will need to make and justify your own decisions on how to treat the data.** These are places where there may not be only one way to handle the data. In real-life tasks, there may be many valid ways to approach an analysis task. One of the most important things you can do is clearly document your approach so that other scientists can understand the decisions you've made.\n",
    "\n",
    "At the end of most sections, there will be a Markdown cell labeled **Discussion**. In these cells, you will report your findings for the completed section, as well as document the decisions that you made in your approach to each subtask. **Your project will be evaluated not just on the code used to complete the tasks outlined, but also your communication about your observations and conclusions at each stage.**"
   ]
  },
  {
   "cell_type": "code",
   "execution_count": 1,
   "metadata": {},
   "outputs": [
    {
     "data": {
      "text/plain": [
       "'\\nImport note: The classroom currently uses sklearn version 0.19.\\nIf you need to use an imputer, it is available in sklearn.preprocessing.Imputer,\\ninstead of sklearn.impute as in newer versions of sklearn.\\n'"
      ]
     },
     "execution_count": 1,
     "metadata": {},
     "output_type": "execute_result"
    }
   ],
   "source": [
    "# import libraries here; add more as necessary\n",
    "#!pip install scikit-learn\n",
    "#!pip install --upgrade scikit-learn\n",
    "import pandas as pd\n",
    "import numpy as np\n",
    "import matplotlib.pyplot as plt\n",
    "import seaborn as sns\n",
    "\n",
    "# magic word for producing visualizations in notebook\n",
    "%matplotlib inline\n",
    "\n",
    "'''\n",
    "Import note: The classroom currently uses sklearn version 0.19.\n",
    "If you need to use an imputer, it is available in sklearn.preprocessing.Imputer,\n",
    "instead of sklearn.impute as in newer versions of sklearn.\n",
    "'''"
   ]
  },
  {
   "cell_type": "markdown",
   "metadata": {},
   "source": [
    "### Step 0: Load the Data\n",
    "\n",
    "There are four files associated with this project (not including this one):\n",
    "\n",
    "- `Udacity_AZDIAS_Subset.csv`: Demographics data for the general population of Germany; 891211 persons (rows) x 85 features (columns).\n",
    "- `Udacity_CUSTOMERS_Subset.csv`: Demographics data for customers of a mail-order company; 191652 persons (rows) x 85 features (columns).\n",
    "- `Data_Dictionary.md`: Detailed information file about the features in the provided datasets.\n",
    "- `AZDIAS_Feature_Summary.csv`: Summary of feature attributes for demographics data; 85 features (rows) x 4 columns\n",
    "\n",
    "Each row of the demographics files represents a single person, but also includes information outside of individuals, including information about their household, building, and neighborhood. You will use this information to cluster the general population into groups with similar demographic properties. Then, you will see how the people in the customers dataset fit into those created clusters. The hope here is that certain clusters are over-represented in the customers data, as compared to the general population; those over-represented clusters will be assumed to be part of the core userbase. This information can then be used for further applications, such as targeting for a marketing campaign.\n",
    "\n",
    "To start off with, load in the demographics data for the general population into a pandas DataFrame, and do the same for the feature attributes summary. Note for all of the `.csv` data files in this project: they're semicolon (`;`) delimited, so you'll need an additional argument in your [`read_csv()`](https://pandas.pydata.org/pandas-docs/stable/generated/pandas.read_csv.html) call to read in the data properly. Also, considering the size of the main dataset, it may take some time for it to load completely.\n",
    "\n",
    "Once the dataset is loaded, it's recommended that you take a little bit of time just browsing the general structure of the dataset and feature summary file. You'll be getting deep into the innards of the cleaning in the first major step of the project, so gaining some general familiarity can help you get your bearings."
   ]
  },
  {
   "cell_type": "code",
   "execution_count": 2,
   "metadata": {},
   "outputs": [],
   "source": [
    "# Load in the general demographics data.\n",
    "azdias = pd.read_csv('Udacity_AZDIAS_Subset.csv', delimiter=';')\n",
    "\n",
    "azdias_copy = azdias.copy()\n",
    "\n",
    "# Load in the feature summary file.\n",
    "feat_info = pd.read_csv('AZDIAS_Feature_Summary.csv', delimiter=';')\n",
    "feat_info = pd.DataFrame(feat_info)\n",
    "\n",
    "feat_info_copy = feat_info.copy()\n",
    "\n",
    "azdias = pd.DataFrame(azdias, columns=feat_info['attribute'].tolist())\n",
    "\n",
    "azdias_copy = pd.DataFrame(azdias_copy, columns=feat_info_copy['attribute'].tolist())"
   ]
  },
  {
   "cell_type": "code",
   "execution_count": 3,
   "metadata": {},
   "outputs": [
    {
     "name": "stdout",
     "output_type": "stream",
     "text": [
      "General demographics data shape: (891221, 85)\n",
      "Feature summary data shape: (85, 4)\n"
     ]
    },
    {
     "data": {
      "text/html": [
       "<div>\n",
       "<style scoped>\n",
       "    .dataframe tbody tr th:only-of-type {\n",
       "        vertical-align: middle;\n",
       "    }\n",
       "\n",
       "    .dataframe tbody tr th {\n",
       "        vertical-align: top;\n",
       "    }\n",
       "\n",
       "    .dataframe thead th {\n",
       "        text-align: right;\n",
       "    }\n",
       "</style>\n",
       "<table border=\"1\" class=\"dataframe\">\n",
       "  <thead>\n",
       "    <tr style=\"text-align: right;\">\n",
       "      <th></th>\n",
       "      <th>AGER_TYP</th>\n",
       "      <th>ALTERSKATEGORIE_GROB</th>\n",
       "      <th>ANREDE_KZ</th>\n",
       "      <th>CJT_GESAMTTYP</th>\n",
       "      <th>FINANZ_MINIMALIST</th>\n",
       "      <th>FINANZ_SPARER</th>\n",
       "      <th>FINANZ_VORSORGER</th>\n",
       "      <th>FINANZ_ANLEGER</th>\n",
       "      <th>FINANZ_UNAUFFAELLIGER</th>\n",
       "      <th>FINANZ_HAUSBAUER</th>\n",
       "      <th>...</th>\n",
       "      <th>PLZ8_ANTG1</th>\n",
       "      <th>PLZ8_ANTG2</th>\n",
       "      <th>PLZ8_ANTG3</th>\n",
       "      <th>PLZ8_ANTG4</th>\n",
       "      <th>PLZ8_BAUMAX</th>\n",
       "      <th>PLZ8_HHZ</th>\n",
       "      <th>PLZ8_GBZ</th>\n",
       "      <th>ARBEIT</th>\n",
       "      <th>ORTSGR_KLS9</th>\n",
       "      <th>RELAT_AB</th>\n",
       "    </tr>\n",
       "  </thead>\n",
       "  <tbody>\n",
       "    <tr>\n",
       "      <th>0</th>\n",
       "      <td>-1</td>\n",
       "      <td>2</td>\n",
       "      <td>1</td>\n",
       "      <td>2.0</td>\n",
       "      <td>3</td>\n",
       "      <td>4</td>\n",
       "      <td>3</td>\n",
       "      <td>5</td>\n",
       "      <td>5</td>\n",
       "      <td>3</td>\n",
       "      <td>...</td>\n",
       "      <td>NaN</td>\n",
       "      <td>NaN</td>\n",
       "      <td>NaN</td>\n",
       "      <td>NaN</td>\n",
       "      <td>NaN</td>\n",
       "      <td>NaN</td>\n",
       "      <td>NaN</td>\n",
       "      <td>NaN</td>\n",
       "      <td>NaN</td>\n",
       "      <td>NaN</td>\n",
       "    </tr>\n",
       "    <tr>\n",
       "      <th>1</th>\n",
       "      <td>-1</td>\n",
       "      <td>1</td>\n",
       "      <td>2</td>\n",
       "      <td>5.0</td>\n",
       "      <td>1</td>\n",
       "      <td>5</td>\n",
       "      <td>2</td>\n",
       "      <td>5</td>\n",
       "      <td>4</td>\n",
       "      <td>5</td>\n",
       "      <td>...</td>\n",
       "      <td>2.0</td>\n",
       "      <td>3.0</td>\n",
       "      <td>2.0</td>\n",
       "      <td>1.0</td>\n",
       "      <td>1.0</td>\n",
       "      <td>5.0</td>\n",
       "      <td>4.0</td>\n",
       "      <td>3.0</td>\n",
       "      <td>5.0</td>\n",
       "      <td>4.0</td>\n",
       "    </tr>\n",
       "    <tr>\n",
       "      <th>2</th>\n",
       "      <td>-1</td>\n",
       "      <td>3</td>\n",
       "      <td>2</td>\n",
       "      <td>3.0</td>\n",
       "      <td>1</td>\n",
       "      <td>4</td>\n",
       "      <td>1</td>\n",
       "      <td>2</td>\n",
       "      <td>3</td>\n",
       "      <td>5</td>\n",
       "      <td>...</td>\n",
       "      <td>3.0</td>\n",
       "      <td>3.0</td>\n",
       "      <td>1.0</td>\n",
       "      <td>0.0</td>\n",
       "      <td>1.0</td>\n",
       "      <td>4.0</td>\n",
       "      <td>4.0</td>\n",
       "      <td>3.0</td>\n",
       "      <td>5.0</td>\n",
       "      <td>2.0</td>\n",
       "    </tr>\n",
       "    <tr>\n",
       "      <th>3</th>\n",
       "      <td>2</td>\n",
       "      <td>4</td>\n",
       "      <td>2</td>\n",
       "      <td>2.0</td>\n",
       "      <td>4</td>\n",
       "      <td>2</td>\n",
       "      <td>5</td>\n",
       "      <td>2</td>\n",
       "      <td>1</td>\n",
       "      <td>2</td>\n",
       "      <td>...</td>\n",
       "      <td>2.0</td>\n",
       "      <td>2.0</td>\n",
       "      <td>2.0</td>\n",
       "      <td>0.0</td>\n",
       "      <td>1.0</td>\n",
       "      <td>3.0</td>\n",
       "      <td>4.0</td>\n",
       "      <td>2.0</td>\n",
       "      <td>3.0</td>\n",
       "      <td>3.0</td>\n",
       "    </tr>\n",
       "    <tr>\n",
       "      <th>4</th>\n",
       "      <td>-1</td>\n",
       "      <td>3</td>\n",
       "      <td>1</td>\n",
       "      <td>5.0</td>\n",
       "      <td>4</td>\n",
       "      <td>3</td>\n",
       "      <td>4</td>\n",
       "      <td>1</td>\n",
       "      <td>3</td>\n",
       "      <td>2</td>\n",
       "      <td>...</td>\n",
       "      <td>2.0</td>\n",
       "      <td>4.0</td>\n",
       "      <td>2.0</td>\n",
       "      <td>1.0</td>\n",
       "      <td>2.0</td>\n",
       "      <td>3.0</td>\n",
       "      <td>3.0</td>\n",
       "      <td>4.0</td>\n",
       "      <td>6.0</td>\n",
       "      <td>5.0</td>\n",
       "    </tr>\n",
       "  </tbody>\n",
       "</table>\n",
       "<p>5 rows × 85 columns</p>\n",
       "</div>"
      ],
      "text/plain": [
       "   AGER_TYP  ALTERSKATEGORIE_GROB  ANREDE_KZ  CJT_GESAMTTYP  \\\n",
       "0        -1                     2          1            2.0   \n",
       "1        -1                     1          2            5.0   \n",
       "2        -1                     3          2            3.0   \n",
       "3         2                     4          2            2.0   \n",
       "4        -1                     3          1            5.0   \n",
       "\n",
       "   FINANZ_MINIMALIST  FINANZ_SPARER  FINANZ_VORSORGER  FINANZ_ANLEGER  \\\n",
       "0                  3              4                 3               5   \n",
       "1                  1              5                 2               5   \n",
       "2                  1              4                 1               2   \n",
       "3                  4              2                 5               2   \n",
       "4                  4              3                 4               1   \n",
       "\n",
       "   FINANZ_UNAUFFAELLIGER  FINANZ_HAUSBAUER    ...     PLZ8_ANTG1  PLZ8_ANTG2  \\\n",
       "0                      5                 3    ...            NaN         NaN   \n",
       "1                      4                 5    ...            2.0         3.0   \n",
       "2                      3                 5    ...            3.0         3.0   \n",
       "3                      1                 2    ...            2.0         2.0   \n",
       "4                      3                 2    ...            2.0         4.0   \n",
       "\n",
       "   PLZ8_ANTG3  PLZ8_ANTG4  PLZ8_BAUMAX  PLZ8_HHZ  PLZ8_GBZ  ARBEIT  \\\n",
       "0         NaN         NaN          NaN       NaN       NaN     NaN   \n",
       "1         2.0         1.0          1.0       5.0       4.0     3.0   \n",
       "2         1.0         0.0          1.0       4.0       4.0     3.0   \n",
       "3         2.0         0.0          1.0       3.0       4.0     2.0   \n",
       "4         2.0         1.0          2.0       3.0       3.0     4.0   \n",
       "\n",
       "   ORTSGR_KLS9  RELAT_AB  \n",
       "0          NaN       NaN  \n",
       "1          5.0       4.0  \n",
       "2          5.0       2.0  \n",
       "3          3.0       3.0  \n",
       "4          6.0       5.0  \n",
       "\n",
       "[5 rows x 85 columns]"
      ]
     },
     "execution_count": 3,
     "metadata": {},
     "output_type": "execute_result"
    }
   ],
   "source": [
    "# Check the structure of the data after it's loaded (e.g. print the number of\n",
    "# rows and columns, print the first few rows).\n",
    "\n",
    "print(\"General demographics data shape:\", azdias.shape)\n",
    "print(\"Feature summary data shape:\", feat_info.shape)\n",
    "\n",
    "azdias.head()\n",
    "\n",
    "\n"
   ]
  },
  {
   "cell_type": "code",
   "execution_count": 4,
   "metadata": {},
   "outputs": [
    {
     "name": "stdout",
     "output_type": "stream",
     "text": [
      "<class 'pandas.core.frame.DataFrame'>\n",
      "RangeIndex: 891221 entries, 0 to 891220\n",
      "Data columns (total 85 columns):\n",
      "AGER_TYP                 891221 non-null int64\n",
      "ALTERSKATEGORIE_GROB     891221 non-null int64\n",
      "ANREDE_KZ                891221 non-null int64\n",
      "CJT_GESAMTTYP            886367 non-null float64\n",
      "FINANZ_MINIMALIST        891221 non-null int64\n",
      "FINANZ_SPARER            891221 non-null int64\n",
      "FINANZ_VORSORGER         891221 non-null int64\n",
      "FINANZ_ANLEGER           891221 non-null int64\n",
      "FINANZ_UNAUFFAELLIGER    891221 non-null int64\n",
      "FINANZ_HAUSBAUER         891221 non-null int64\n",
      "FINANZTYP                891221 non-null int64\n",
      "GEBURTSJAHR              891221 non-null int64\n",
      "GFK_URLAUBERTYP          886367 non-null float64\n",
      "GREEN_AVANTGARDE         891221 non-null int64\n",
      "HEALTH_TYP               891221 non-null int64\n",
      "LP_LEBENSPHASE_FEIN      886367 non-null float64\n",
      "LP_LEBENSPHASE_GROB      886367 non-null float64\n",
      "LP_FAMILIE_FEIN          886367 non-null float64\n",
      "LP_FAMILIE_GROB          886367 non-null float64\n",
      "LP_STATUS_FEIN           886367 non-null float64\n",
      "LP_STATUS_GROB           886367 non-null float64\n",
      "NATIONALITAET_KZ         891221 non-null int64\n",
      "PRAEGENDE_JUGENDJAHRE    891221 non-null int64\n",
      "RETOURTYP_BK_S           886367 non-null float64\n",
      "SEMIO_SOZ                891221 non-null int64\n",
      "SEMIO_FAM                891221 non-null int64\n",
      "SEMIO_REL                891221 non-null int64\n",
      "SEMIO_MAT                891221 non-null int64\n",
      "SEMIO_VERT               891221 non-null int64\n",
      "SEMIO_LUST               891221 non-null int64\n",
      "SEMIO_ERL                891221 non-null int64\n",
      "SEMIO_KULT               891221 non-null int64\n",
      "SEMIO_RAT                891221 non-null int64\n",
      "SEMIO_KRIT               891221 non-null int64\n",
      "SEMIO_DOM                891221 non-null int64\n",
      "SEMIO_KAEM               891221 non-null int64\n",
      "SEMIO_PFLICHT            891221 non-null int64\n",
      "SEMIO_TRADV              891221 non-null int64\n",
      "SHOPPER_TYP              891221 non-null int64\n",
      "SOHO_KZ                  817722 non-null float64\n",
      "TITEL_KZ                 817722 non-null float64\n",
      "VERS_TYP                 891221 non-null int64\n",
      "ZABEOTYP                 891221 non-null int64\n",
      "ALTER_HH                 817722 non-null float64\n",
      "ANZ_PERSONEN             817722 non-null float64\n",
      "ANZ_TITEL                817722 non-null float64\n",
      "HH_EINKOMMEN_SCORE       872873 non-null float64\n",
      "KK_KUNDENTYP             306609 non-null float64\n",
      "W_KEIT_KIND_HH           783619 non-null float64\n",
      "WOHNDAUER_2008           817722 non-null float64\n",
      "ANZ_HAUSHALTE_AKTIV      798073 non-null float64\n",
      "ANZ_HH_TITEL             794213 non-null float64\n",
      "GEBAEUDETYP              798073 non-null float64\n",
      "KONSUMNAEHE              817252 non-null float64\n",
      "MIN_GEBAEUDEJAHR         798073 non-null float64\n",
      "OST_WEST_KZ              798073 non-null object\n",
      "WOHNLAGE                 798073 non-null float64\n",
      "CAMEO_DEUG_2015          792242 non-null object\n",
      "CAMEO_DEU_2015           792242 non-null object\n",
      "CAMEO_INTL_2015          792242 non-null object\n",
      "KBA05_ANTG1              757897 non-null float64\n",
      "KBA05_ANTG2              757897 non-null float64\n",
      "KBA05_ANTG3              757897 non-null float64\n",
      "KBA05_ANTG4              757897 non-null float64\n",
      "KBA05_BAUMAX             757897 non-null float64\n",
      "KBA05_GBZ                757897 non-null float64\n",
      "BALLRAUM                 797481 non-null float64\n",
      "EWDICHTE                 797481 non-null float64\n",
      "INNENSTADT               797481 non-null float64\n",
      "GEBAEUDETYP_RASTER       798066 non-null float64\n",
      "KKK                      770025 non-null float64\n",
      "MOBI_REGIO               757897 non-null float64\n",
      "ONLINE_AFFINITAET        886367 non-null float64\n",
      "REGIOTYP                 770025 non-null float64\n",
      "KBA13_ANZAHL_PKW         785421 non-null float64\n",
      "PLZ8_ANTG1               774706 non-null float64\n",
      "PLZ8_ANTG2               774706 non-null float64\n",
      "PLZ8_ANTG3               774706 non-null float64\n",
      "PLZ8_ANTG4               774706 non-null float64\n",
      "PLZ8_BAUMAX              774706 non-null float64\n",
      "PLZ8_HHZ                 774706 non-null float64\n",
      "PLZ8_GBZ                 774706 non-null float64\n",
      "ARBEIT                   794005 non-null float64\n",
      "ORTSGR_KLS9              794005 non-null float64\n",
      "RELAT_AB                 794005 non-null float64\n",
      "dtypes: float64(49), int64(32), object(4)\n",
      "memory usage: 578.0+ MB\n"
     ]
    }
   ],
   "source": [
    "azdias.info()"
   ]
  },
  {
   "cell_type": "markdown",
   "metadata": {},
   "source": [
    "> **Tip**: Add additional cells to keep everything in reasonably-sized chunks! Keyboard shortcut `esc --> a` (press escape to enter command mode, then press the 'A' key) adds a new cell before the active cell, and `esc --> b` adds a new cell after the active cell. If you need to convert an active cell to a markdown cell, use `esc --> m` and to convert to a code cell, use `esc --> y`. \n",
    "\n",
    "## Step 1: Preprocessing\n",
    "\n",
    "### Step 1.1: Assess Missing Data\n",
    "\n",
    "The feature summary file contains a summary of properties for each demographics data column. You will use this file to help you make cleaning decisions during this stage of the project. First of all, you should assess the demographics data in terms of missing data. Pay attention to the following points as you perform your analysis, and take notes on what you observe. Make sure that you fill in the **Discussion** cell with your findings and decisions at the end of each step that has one!\n",
    "\n",
    "#### Step 1.1.1: Convert Missing Value Codes to NaNs\n",
    "The fourth column of the feature attributes summary (loaded in above as `feat_info`) documents the codes from the data dictionary that indicate missing or unknown data. While the file encodes this as a list (e.g. `[-1,0]`), this will get read in as a string object. You'll need to do a little bit of parsing to make use of it to identify and clean the data. Convert data that matches a 'missing' or 'unknown' value code into a numpy NaN value. You might want to see how much data takes on a 'missing' or 'unknown' code, and how much data is naturally missing, as a point of interest.\n",
    "\n",
    "**As one more reminder, you are encouraged to add additional cells to break up your analysis into manageable chunks.**"
   ]
  },
  {
   "cell_type": "code",
   "execution_count": 5,
   "metadata": {},
   "outputs": [
    {
     "data": {
      "text/html": [
       "<div>\n",
       "<style scoped>\n",
       "    .dataframe tbody tr th:only-of-type {\n",
       "        vertical-align: middle;\n",
       "    }\n",
       "\n",
       "    .dataframe tbody tr th {\n",
       "        vertical-align: top;\n",
       "    }\n",
       "\n",
       "    .dataframe thead th {\n",
       "        text-align: right;\n",
       "    }\n",
       "</style>\n",
       "<table border=\"1\" class=\"dataframe\">\n",
       "  <thead>\n",
       "    <tr style=\"text-align: right;\">\n",
       "      <th></th>\n",
       "      <th>attribute</th>\n",
       "      <th>information_level</th>\n",
       "      <th>type</th>\n",
       "      <th>missing_or_unknown</th>\n",
       "      <th>NA_tags</th>\n",
       "    </tr>\n",
       "  </thead>\n",
       "  <tbody>\n",
       "    <tr>\n",
       "      <th>0</th>\n",
       "      <td>AGER_TYP</td>\n",
       "      <td>person</td>\n",
       "      <td>categorical</td>\n",
       "      <td>[-1,0]</td>\n",
       "      <td>[-1,0]</td>\n",
       "    </tr>\n",
       "    <tr>\n",
       "      <th>1</th>\n",
       "      <td>ALTERSKATEGORIE_GROB</td>\n",
       "      <td>person</td>\n",
       "      <td>ordinal</td>\n",
       "      <td>[-1,0,9]</td>\n",
       "      <td>[-1,0,9]</td>\n",
       "    </tr>\n",
       "    <tr>\n",
       "      <th>2</th>\n",
       "      <td>ANREDE_KZ</td>\n",
       "      <td>person</td>\n",
       "      <td>categorical</td>\n",
       "      <td>[-1,0]</td>\n",
       "      <td>[-1,0]</td>\n",
       "    </tr>\n",
       "    <tr>\n",
       "      <th>3</th>\n",
       "      <td>CJT_GESAMTTYP</td>\n",
       "      <td>person</td>\n",
       "      <td>categorical</td>\n",
       "      <td>[0]</td>\n",
       "      <td>[0]</td>\n",
       "    </tr>\n",
       "    <tr>\n",
       "      <th>4</th>\n",
       "      <td>FINANZ_MINIMALIST</td>\n",
       "      <td>person</td>\n",
       "      <td>ordinal</td>\n",
       "      <td>[-1]</td>\n",
       "      <td>[-1]</td>\n",
       "    </tr>\n",
       "  </tbody>\n",
       "</table>\n",
       "</div>"
      ],
      "text/plain": [
       "              attribute information_level         type missing_or_unknown  \\\n",
       "0              AGER_TYP            person  categorical             [-1,0]   \n",
       "1  ALTERSKATEGORIE_GROB            person      ordinal           [-1,0,9]   \n",
       "2             ANREDE_KZ            person  categorical             [-1,0]   \n",
       "3         CJT_GESAMTTYP            person  categorical                [0]   \n",
       "4     FINANZ_MINIMALIST            person      ordinal               [-1]   \n",
       "\n",
       "    NA_tags  \n",
       "0    [-1,0]  \n",
       "1  [-1,0,9]  \n",
       "2    [-1,0]  \n",
       "3       [0]  \n",
       "4      [-1]  "
      ]
     },
     "execution_count": 5,
     "metadata": {},
     "output_type": "execute_result"
    }
   ],
   "source": [
    "def string_to_int(string):\n",
    "    try:\n",
    "        return int(string)\n",
    "    except ValueError:\n",
    "        return string\n",
    "\n",
    "feat_info['NA_tags'] = feat_info['missing_or_unknown'].apply(string_to_int)\n",
    "\n",
    "feat_info.head()"
   ]
  },
  {
   "cell_type": "code",
   "execution_count": 6,
   "metadata": {},
   "outputs": [],
   "source": [
    "for i, (column, values) in enumerate(azdias.iteritems()):\n",
    "    become_NaN = feat_info.loc[feat_info['attribute'] == column, 'missing_or_unknown'].values[0]\n",
    "    become_NaN = become_NaN[1:-1].split(',')\n",
    "    \n",
    "    if become_NaN != ['']:\n",
    "        temp_list = []\n",
    "        for x in become_NaN:\n",
    "            if x in ['X', 'XX']:\n",
    "                temp_list.append(x)\n",
    "            else:\n",
    "                temp_list.append(int(x))\n",
    "        azdias[column] = azdias[column].replace(temp_list, np.nan)\n",
    "        \n"
   ]
  },
  {
   "cell_type": "code",
   "execution_count": 7,
   "metadata": {},
   "outputs": [
    {
     "data": {
      "text/html": [
       "<div>\n",
       "<style scoped>\n",
       "    .dataframe tbody tr th:only-of-type {\n",
       "        vertical-align: middle;\n",
       "    }\n",
       "\n",
       "    .dataframe tbody tr th {\n",
       "        vertical-align: top;\n",
       "    }\n",
       "\n",
       "    .dataframe thead th {\n",
       "        text-align: right;\n",
       "    }\n",
       "</style>\n",
       "<table border=\"1\" class=\"dataframe\">\n",
       "  <thead>\n",
       "    <tr style=\"text-align: right;\">\n",
       "      <th></th>\n",
       "      <th>AGER_TYP</th>\n",
       "      <th>ALTERSKATEGORIE_GROB</th>\n",
       "      <th>ANREDE_KZ</th>\n",
       "      <th>CJT_GESAMTTYP</th>\n",
       "      <th>FINANZ_MINIMALIST</th>\n",
       "      <th>FINANZ_SPARER</th>\n",
       "      <th>FINANZ_VORSORGER</th>\n",
       "      <th>FINANZ_ANLEGER</th>\n",
       "      <th>FINANZ_UNAUFFAELLIGER</th>\n",
       "      <th>FINANZ_HAUSBAUER</th>\n",
       "      <th>...</th>\n",
       "      <th>PLZ8_ANTG1</th>\n",
       "      <th>PLZ8_ANTG2</th>\n",
       "      <th>PLZ8_ANTG3</th>\n",
       "      <th>PLZ8_ANTG4</th>\n",
       "      <th>PLZ8_BAUMAX</th>\n",
       "      <th>PLZ8_HHZ</th>\n",
       "      <th>PLZ8_GBZ</th>\n",
       "      <th>ARBEIT</th>\n",
       "      <th>ORTSGR_KLS9</th>\n",
       "      <th>RELAT_AB</th>\n",
       "    </tr>\n",
       "  </thead>\n",
       "  <tbody>\n",
       "    <tr>\n",
       "      <th>0</th>\n",
       "      <td>NaN</td>\n",
       "      <td>2.0</td>\n",
       "      <td>1</td>\n",
       "      <td>2.0</td>\n",
       "      <td>3</td>\n",
       "      <td>4</td>\n",
       "      <td>3</td>\n",
       "      <td>5</td>\n",
       "      <td>5</td>\n",
       "      <td>3</td>\n",
       "      <td>...</td>\n",
       "      <td>NaN</td>\n",
       "      <td>NaN</td>\n",
       "      <td>NaN</td>\n",
       "      <td>NaN</td>\n",
       "      <td>NaN</td>\n",
       "      <td>NaN</td>\n",
       "      <td>NaN</td>\n",
       "      <td>NaN</td>\n",
       "      <td>NaN</td>\n",
       "      <td>NaN</td>\n",
       "    </tr>\n",
       "    <tr>\n",
       "      <th>1</th>\n",
       "      <td>NaN</td>\n",
       "      <td>1.0</td>\n",
       "      <td>2</td>\n",
       "      <td>5.0</td>\n",
       "      <td>1</td>\n",
       "      <td>5</td>\n",
       "      <td>2</td>\n",
       "      <td>5</td>\n",
       "      <td>4</td>\n",
       "      <td>5</td>\n",
       "      <td>...</td>\n",
       "      <td>2.0</td>\n",
       "      <td>3.0</td>\n",
       "      <td>2.0</td>\n",
       "      <td>1.0</td>\n",
       "      <td>1.0</td>\n",
       "      <td>5.0</td>\n",
       "      <td>4.0</td>\n",
       "      <td>3.0</td>\n",
       "      <td>5.0</td>\n",
       "      <td>4.0</td>\n",
       "    </tr>\n",
       "    <tr>\n",
       "      <th>2</th>\n",
       "      <td>NaN</td>\n",
       "      <td>3.0</td>\n",
       "      <td>2</td>\n",
       "      <td>3.0</td>\n",
       "      <td>1</td>\n",
       "      <td>4</td>\n",
       "      <td>1</td>\n",
       "      <td>2</td>\n",
       "      <td>3</td>\n",
       "      <td>5</td>\n",
       "      <td>...</td>\n",
       "      <td>3.0</td>\n",
       "      <td>3.0</td>\n",
       "      <td>1.0</td>\n",
       "      <td>0.0</td>\n",
       "      <td>1.0</td>\n",
       "      <td>4.0</td>\n",
       "      <td>4.0</td>\n",
       "      <td>3.0</td>\n",
       "      <td>5.0</td>\n",
       "      <td>2.0</td>\n",
       "    </tr>\n",
       "    <tr>\n",
       "      <th>3</th>\n",
       "      <td>2.0</td>\n",
       "      <td>4.0</td>\n",
       "      <td>2</td>\n",
       "      <td>2.0</td>\n",
       "      <td>4</td>\n",
       "      <td>2</td>\n",
       "      <td>5</td>\n",
       "      <td>2</td>\n",
       "      <td>1</td>\n",
       "      <td>2</td>\n",
       "      <td>...</td>\n",
       "      <td>2.0</td>\n",
       "      <td>2.0</td>\n",
       "      <td>2.0</td>\n",
       "      <td>0.0</td>\n",
       "      <td>1.0</td>\n",
       "      <td>3.0</td>\n",
       "      <td>4.0</td>\n",
       "      <td>2.0</td>\n",
       "      <td>3.0</td>\n",
       "      <td>3.0</td>\n",
       "    </tr>\n",
       "    <tr>\n",
       "      <th>4</th>\n",
       "      <td>NaN</td>\n",
       "      <td>3.0</td>\n",
       "      <td>1</td>\n",
       "      <td>5.0</td>\n",
       "      <td>4</td>\n",
       "      <td>3</td>\n",
       "      <td>4</td>\n",
       "      <td>1</td>\n",
       "      <td>3</td>\n",
       "      <td>2</td>\n",
       "      <td>...</td>\n",
       "      <td>2.0</td>\n",
       "      <td>4.0</td>\n",
       "      <td>2.0</td>\n",
       "      <td>1.0</td>\n",
       "      <td>2.0</td>\n",
       "      <td>3.0</td>\n",
       "      <td>3.0</td>\n",
       "      <td>4.0</td>\n",
       "      <td>6.0</td>\n",
       "      <td>5.0</td>\n",
       "    </tr>\n",
       "  </tbody>\n",
       "</table>\n",
       "<p>5 rows × 85 columns</p>\n",
       "</div>"
      ],
      "text/plain": [
       "   AGER_TYP  ALTERSKATEGORIE_GROB  ANREDE_KZ  CJT_GESAMTTYP  \\\n",
       "0       NaN                   2.0          1            2.0   \n",
       "1       NaN                   1.0          2            5.0   \n",
       "2       NaN                   3.0          2            3.0   \n",
       "3       2.0                   4.0          2            2.0   \n",
       "4       NaN                   3.0          1            5.0   \n",
       "\n",
       "   FINANZ_MINIMALIST  FINANZ_SPARER  FINANZ_VORSORGER  FINANZ_ANLEGER  \\\n",
       "0                  3              4                 3               5   \n",
       "1                  1              5                 2               5   \n",
       "2                  1              4                 1               2   \n",
       "3                  4              2                 5               2   \n",
       "4                  4              3                 4               1   \n",
       "\n",
       "   FINANZ_UNAUFFAELLIGER  FINANZ_HAUSBAUER    ...     PLZ8_ANTG1  PLZ8_ANTG2  \\\n",
       "0                      5                 3    ...            NaN         NaN   \n",
       "1                      4                 5    ...            2.0         3.0   \n",
       "2                      3                 5    ...            3.0         3.0   \n",
       "3                      1                 2    ...            2.0         2.0   \n",
       "4                      3                 2    ...            2.0         4.0   \n",
       "\n",
       "   PLZ8_ANTG3  PLZ8_ANTG4  PLZ8_BAUMAX  PLZ8_HHZ  PLZ8_GBZ  ARBEIT  \\\n",
       "0         NaN         NaN          NaN       NaN       NaN     NaN   \n",
       "1         2.0         1.0          1.0       5.0       4.0     3.0   \n",
       "2         1.0         0.0          1.0       4.0       4.0     3.0   \n",
       "3         2.0         0.0          1.0       3.0       4.0     2.0   \n",
       "4         2.0         1.0          2.0       3.0       3.0     4.0   \n",
       "\n",
       "   ORTSGR_KLS9  RELAT_AB  \n",
       "0          NaN       NaN  \n",
       "1          5.0       4.0  \n",
       "2          5.0       2.0  \n",
       "3          3.0       3.0  \n",
       "4          6.0       5.0  \n",
       "\n",
       "[5 rows x 85 columns]"
      ]
     },
     "execution_count": 7,
     "metadata": {},
     "output_type": "execute_result"
    }
   ],
   "source": [
    "azdias.head()"
   ]
  },
  {
   "cell_type": "markdown",
   "metadata": {},
   "source": [
    "#### Step 1.1.2: Assess Missing Data in Each Column\n",
    "\n",
    "How much missing data is present in each column? There are a few columns that are outliers in terms of the proportion of values that are missing. You will want to use matplotlib's [`hist()`](https://matplotlib.org/api/_as_gen/matplotlib.pyplot.hist.html) function to visualize the distribution of missing value counts to find these columns. Identify and document these columns. While some of these columns might have justifications for keeping or re-encoding the data, for this project you should just remove them from the dataframe. (Feel free to make remarks about these outlier columns in the discussion, however!)\n",
    "\n",
    "For the remaining features, are there any patterns in which columns have, or share, missing data?"
   ]
  },
  {
   "cell_type": "code",
   "execution_count": 8,
   "metadata": {},
   "outputs": [
    {
     "name": "stdout",
     "output_type": "stream",
     "text": [
      "total missing data: 8373929\n"
     ]
    }
   ],
   "source": [
    "# Perform an assessment of how much missing data there is in each column of the\n",
    "# dataset.\n",
    "\n",
    "missing_data = azdias.isna().sum()\n",
    "\n",
    "print(\"total missing data:\", missing_data.sum())\n"
   ]
  },
  {
   "cell_type": "code",
   "execution_count": 9,
   "metadata": {},
   "outputs": [
    {
     "data": {
      "image/png": "[encoded data removed]",
      "text/plain": [
       "<matplotlib.figure.Figure at 0x7fa01401c710>"
      ]
     },
     "metadata": {
      "needs_background": "light"
     },
     "output_type": "display_data"
    }
   ],
   "source": [
    "# Investigate patterns in the amount of missing data in each column.\n",
    "\n",
    "plt.hist(missing_data, bins=50)\n",
    "plt.title('Missing Data')\n",
    "plt.xlabel('Amount of missing values')\n",
    "plt.ylabel('Number of columns');"
   ]
  },
  {
   "cell_type": "code",
   "execution_count": 10,
   "metadata": {},
   "outputs": [
    {
     "name": "stdout",
     "output_type": "stream",
     "text": [
      "Remaining columns after removing outliers: 79\n"
     ]
    },
    {
     "data": {
      "text/html": [
       "<div>\n",
       "<style scoped>\n",
       "    .dataframe tbody tr th:only-of-type {\n",
       "        vertical-align: middle;\n",
       "    }\n",
       "\n",
       "    .dataframe tbody tr th {\n",
       "        vertical-align: top;\n",
       "    }\n",
       "\n",
       "    .dataframe thead th {\n",
       "        text-align: right;\n",
       "    }\n",
       "</style>\n",
       "<table border=\"1\" class=\"dataframe\">\n",
       "  <thead>\n",
       "    <tr style=\"text-align: right;\">\n",
       "      <th></th>\n",
       "      <th>ALTERSKATEGORIE_GROB</th>\n",
       "      <th>ANREDE_KZ</th>\n",
       "      <th>CJT_GESAMTTYP</th>\n",
       "      <th>FINANZ_MINIMALIST</th>\n",
       "      <th>FINANZ_SPARER</th>\n",
       "      <th>FINANZ_VORSORGER</th>\n",
       "      <th>FINANZ_ANLEGER</th>\n",
       "      <th>FINANZ_UNAUFFAELLIGER</th>\n",
       "      <th>FINANZ_HAUSBAUER</th>\n",
       "      <th>FINANZTYP</th>\n",
       "      <th>...</th>\n",
       "      <th>PLZ8_ANTG1</th>\n",
       "      <th>PLZ8_ANTG2</th>\n",
       "      <th>PLZ8_ANTG3</th>\n",
       "      <th>PLZ8_ANTG4</th>\n",
       "      <th>PLZ8_BAUMAX</th>\n",
       "      <th>PLZ8_HHZ</th>\n",
       "      <th>PLZ8_GBZ</th>\n",
       "      <th>ARBEIT</th>\n",
       "      <th>ORTSGR_KLS9</th>\n",
       "      <th>RELAT_AB</th>\n",
       "    </tr>\n",
       "  </thead>\n",
       "  <tbody>\n",
       "    <tr>\n",
       "      <th>0</th>\n",
       "      <td>2.0</td>\n",
       "      <td>1</td>\n",
       "      <td>2.0</td>\n",
       "      <td>3</td>\n",
       "      <td>4</td>\n",
       "      <td>3</td>\n",
       "      <td>5</td>\n",
       "      <td>5</td>\n",
       "      <td>3</td>\n",
       "      <td>4</td>\n",
       "      <td>...</td>\n",
       "      <td>NaN</td>\n",
       "      <td>NaN</td>\n",
       "      <td>NaN</td>\n",
       "      <td>NaN</td>\n",
       "      <td>NaN</td>\n",
       "      <td>NaN</td>\n",
       "      <td>NaN</td>\n",
       "      <td>NaN</td>\n",
       "      <td>NaN</td>\n",
       "      <td>NaN</td>\n",
       "    </tr>\n",
       "    <tr>\n",
       "      <th>1</th>\n",
       "      <td>1.0</td>\n",
       "      <td>2</td>\n",
       "      <td>5.0</td>\n",
       "      <td>1</td>\n",
       "      <td>5</td>\n",
       "      <td>2</td>\n",
       "      <td>5</td>\n",
       "      <td>4</td>\n",
       "      <td>5</td>\n",
       "      <td>1</td>\n",
       "      <td>...</td>\n",
       "      <td>2.0</td>\n",
       "      <td>3.0</td>\n",
       "      <td>2.0</td>\n",
       "      <td>1.0</td>\n",
       "      <td>1.0</td>\n",
       "      <td>5.0</td>\n",
       "      <td>4.0</td>\n",
       "      <td>3.0</td>\n",
       "      <td>5.0</td>\n",
       "      <td>4.0</td>\n",
       "    </tr>\n",
       "    <tr>\n",
       "      <th>2</th>\n",
       "      <td>3.0</td>\n",
       "      <td>2</td>\n",
       "      <td>3.0</td>\n",
       "      <td>1</td>\n",
       "      <td>4</td>\n",
       "      <td>1</td>\n",
       "      <td>2</td>\n",
       "      <td>3</td>\n",
       "      <td>5</td>\n",
       "      <td>1</td>\n",
       "      <td>...</td>\n",
       "      <td>3.0</td>\n",
       "      <td>3.0</td>\n",
       "      <td>1.0</td>\n",
       "      <td>0.0</td>\n",
       "      <td>1.0</td>\n",
       "      <td>4.0</td>\n",
       "      <td>4.0</td>\n",
       "      <td>3.0</td>\n",
       "      <td>5.0</td>\n",
       "      <td>2.0</td>\n",
       "    </tr>\n",
       "    <tr>\n",
       "      <th>3</th>\n",
       "      <td>4.0</td>\n",
       "      <td>2</td>\n",
       "      <td>2.0</td>\n",
       "      <td>4</td>\n",
       "      <td>2</td>\n",
       "      <td>5</td>\n",
       "      <td>2</td>\n",
       "      <td>1</td>\n",
       "      <td>2</td>\n",
       "      <td>6</td>\n",
       "      <td>...</td>\n",
       "      <td>2.0</td>\n",
       "      <td>2.0</td>\n",
       "      <td>2.0</td>\n",
       "      <td>0.0</td>\n",
       "      <td>1.0</td>\n",
       "      <td>3.0</td>\n",
       "      <td>4.0</td>\n",
       "      <td>2.0</td>\n",
       "      <td>3.0</td>\n",
       "      <td>3.0</td>\n",
       "    </tr>\n",
       "    <tr>\n",
       "      <th>4</th>\n",
       "      <td>3.0</td>\n",
       "      <td>1</td>\n",
       "      <td>5.0</td>\n",
       "      <td>4</td>\n",
       "      <td>3</td>\n",
       "      <td>4</td>\n",
       "      <td>1</td>\n",
       "      <td>3</td>\n",
       "      <td>2</td>\n",
       "      <td>5</td>\n",
       "      <td>...</td>\n",
       "      <td>2.0</td>\n",
       "      <td>4.0</td>\n",
       "      <td>2.0</td>\n",
       "      <td>1.0</td>\n",
       "      <td>2.0</td>\n",
       "      <td>3.0</td>\n",
       "      <td>3.0</td>\n",
       "      <td>4.0</td>\n",
       "      <td>6.0</td>\n",
       "      <td>5.0</td>\n",
       "    </tr>\n",
       "  </tbody>\n",
       "</table>\n",
       "<p>5 rows × 79 columns</p>\n",
       "</div>"
      ],
      "text/plain": [
       "   ALTERSKATEGORIE_GROB  ANREDE_KZ  CJT_GESAMTTYP  FINANZ_MINIMALIST  \\\n",
       "0                   2.0          1            2.0                  3   \n",
       "1                   1.0          2            5.0                  1   \n",
       "2                   3.0          2            3.0                  1   \n",
       "3                   4.0          2            2.0                  4   \n",
       "4                   3.0          1            5.0                  4   \n",
       "\n",
       "   FINANZ_SPARER  FINANZ_VORSORGER  FINANZ_ANLEGER  FINANZ_UNAUFFAELLIGER  \\\n",
       "0              4                 3               5                      5   \n",
       "1              5                 2               5                      4   \n",
       "2              4                 1               2                      3   \n",
       "3              2                 5               2                      1   \n",
       "4              3                 4               1                      3   \n",
       "\n",
       "   FINANZ_HAUSBAUER  FINANZTYP    ...     PLZ8_ANTG1  PLZ8_ANTG2  PLZ8_ANTG3  \\\n",
       "0                 3          4    ...            NaN         NaN         NaN   \n",
       "1                 5          1    ...            2.0         3.0         2.0   \n",
       "2                 5          1    ...            3.0         3.0         1.0   \n",
       "3                 2          6    ...            2.0         2.0         2.0   \n",
       "4                 2          5    ...            2.0         4.0         2.0   \n",
       "\n",
       "   PLZ8_ANTG4  PLZ8_BAUMAX  PLZ8_HHZ  PLZ8_GBZ  ARBEIT  ORTSGR_KLS9  RELAT_AB  \n",
       "0         NaN          NaN       NaN       NaN     NaN          NaN       NaN  \n",
       "1         1.0          1.0       5.0       4.0     3.0          5.0       4.0  \n",
       "2         0.0          1.0       4.0       4.0     3.0          5.0       2.0  \n",
       "3         0.0          1.0       3.0       4.0     2.0          3.0       3.0  \n",
       "4         1.0          2.0       3.0       3.0     4.0          6.0       5.0  \n",
       "\n",
       "[5 rows x 79 columns]"
      ]
     },
     "execution_count": 10,
     "metadata": {},
     "output_type": "execute_result"
    }
   ],
   "source": [
    "# Remove the outlier columns from the dataset. (You'll perform other data\n",
    "# engineering tasks such as re-encoding and imputation later.)\n",
    "missing_percentages = azdias.isnull().sum() / len(azdias) * 100\n",
    "\n",
    "# Identify outlier columns with missing values over 3%\n",
    "outlier_columns = missing_percentages[missing_percentages > 30].index\n",
    "\n",
    "# Remove outlier columns from the dataset\n",
    "azdias = azdias.drop(outlier_columns, axis=1)\n",
    "\n",
    "print(\"Remaining columns after removing outliers:\", azdias.shape[1])\n",
    "\n",
    "azdias.head()"
   ]
  },
  {
   "cell_type": "markdown",
   "metadata": {},
   "source": [
    "#### Discussion 1.1.2: Assess Missing Data in Each Column\n",
    "\n",
    "There doesn't seem to be any noticeable pattern of columns that got deleted.\n"
   ]
  },
  {
   "cell_type": "markdown",
   "metadata": {},
   "source": [
    "#### Step 1.1.3: Assess Missing Data in Each Row\n",
    "\n",
    "Now, you'll perform a similar assessment for the rows of the dataset. How much data is missing in each row? As with the columns, you should see some groups of points that have a very different numbers of missing values. Divide the data into two subsets: one for data points that are above some threshold for missing values, and a second subset for points below that threshold.\n",
    "\n",
    "In order to know what to do with the outlier rows, we should see if the distribution of data values on columns that are not missing data (or are missing very little data) are similar or different between the two groups. Select at least five of these columns and compare the distribution of values.\n",
    "- You can use seaborn's [`countplot()`](https://seaborn.pydata.org/generated/seaborn.countplot.html) function to create a bar chart of code frequencies and matplotlib's [`subplot()`](https://matplotlib.org/api/_as_gen/matplotlib.pyplot.subplot.html) function to put bar charts for the two subplots side by side.\n",
    "- To reduce repeated code, you might want to write a function that can perform this comparison, taking as one of its arguments a column to be compared.\n",
    "\n",
    "Depending on what you observe in your comparison, this will have implications on how you approach your conclusions later in the analysis. If the distributions of non-missing features look similar between the data with many missing values and the data with few or no missing values, then we could argue that simply dropping those points from the analysis won't present a major issue. On the other hand, if the data with many missing values looks very different from the data with few or no missing values, then we should make a note on those data as special. We'll revisit these data later on. **Either way, you should continue your analysis for now using just the subset of the data with few or no missing values.**"
   ]
  },
  {
   "cell_type": "code",
   "execution_count": 11,
   "metadata": {},
   "outputs": [
    {
     "name": "stdout",
     "output_type": "stream",
     "text": [
      "0         43\n",
      "1          0\n",
      "2          0\n",
      "3          7\n",
      "4          0\n",
      "5          0\n",
      "6          0\n",
      "7          0\n",
      "8          0\n",
      "9          0\n",
      "10         0\n",
      "11        47\n",
      "12         6\n",
      "13         8\n",
      "14        47\n",
      "15         8\n",
      "16         6\n",
      "17        47\n",
      "18         3\n",
      "19         0\n",
      "20        10\n",
      "21         0\n",
      "22         0\n",
      "23         8\n",
      "24        47\n",
      "25         5\n",
      "26        19\n",
      "27         0\n",
      "28         0\n",
      "29         2\n",
      "          ..\n",
      "891191     0\n",
      "891192     0\n",
      "891193     0\n",
      "891194     0\n",
      "891195     0\n",
      "891196     0\n",
      "891197     0\n",
      "891198     0\n",
      "891199     0\n",
      "891200     0\n",
      "891201     0\n",
      "891202     0\n",
      "891203    14\n",
      "891204     0\n",
      "891205     0\n",
      "891206     0\n",
      "891207     0\n",
      "891208     3\n",
      "891209     0\n",
      "891210     0\n",
      "891211     0\n",
      "891212     0\n",
      "891213     0\n",
      "891214     0\n",
      "891215     0\n",
      "891216     3\n",
      "891217     4\n",
      "891218     5\n",
      "891219     0\n",
      "891220     0\n",
      "Length: 891221, dtype: int64\n"
     ]
    }
   ],
   "source": [
    "# How much data is missing in each row of the dataset?\n",
    "\n",
    "missing_values_per_row = azdias.isnull().sum(axis=1)\n",
    "\n",
    "# Print the number of missing values in each row\n",
    "print(missing_values_per_row)"
   ]
  },
  {
   "cell_type": "code",
   "execution_count": 12,
   "metadata": {},
   "outputs": [],
   "source": [
    "# Write code to divide the data into two subsets based on the number of missing\n",
    "# values in each row.\n",
    "\n",
    "\n",
    "threshold = 30\n",
    "\n",
    "# Divide the data into two subsets based on the number of missing values\n",
    "subset1 = azdias[missing_values_per_row < threshold]\n",
    "subset2 = azdias[missing_values_per_row >= threshold]"
   ]
  },
  {
   "cell_type": "code",
   "execution_count": 13,
   "metadata": {},
   "outputs": [
    {
     "name": "stdout",
     "output_type": "stream",
     "text": [
      "ZABEOTYP\n"
     ]
    },
    {
     "data": {
      "image/png": "[encoded data removed]",
      "text/plain": [
       "<matplotlib.figure.Figure at 0x7fa058bc98d0>"
      ]
     },
     "metadata": {
      "needs_background": "light"
     },
     "output_type": "display_data"
    },
    {
     "name": "stdout",
     "output_type": "stream",
     "text": [
      "SEMIO_REL\n"
     ]
    },
    {
     "data": {
      "image/png": "[encoded data removed]",
      "text/plain": [
       "<matplotlib.figure.Figure at 0x7fa05813deb8>"
      ]
     },
     "metadata": {
      "needs_background": "light"
     },
     "output_type": "display_data"
    },
    {
     "name": "stdout",
     "output_type": "stream",
     "text": [
      "SEMIO_MAT\n"
     ]
    },
    {
     "data": {
      "image/png": "[encoded data removed]",
      "text/plain": [
       "<matplotlib.figure.Figure at 0x7fa058130f98>"
      ]
     },
     "metadata": {
      "needs_background": "light"
     },
     "output_type": "display_data"
    },
    {
     "name": "stdout",
     "output_type": "stream",
     "text": [
      "SEMIO_VERT\n"
     ]
    },
    {
     "data": {
      "image/png": "[encoded data removed]",
      "text/plain": [
       "<matplotlib.figure.Figure at 0x7f9fef7b2898>"
      ]
     },
     "metadata": {
      "needs_background": "light"
     },
     "output_type": "display_data"
    },
    {
     "name": "stdout",
     "output_type": "stream",
     "text": [
      "SEMIO_LUST\n"
     ]
    },
    {
     "data": {
      "image/png": "[encoded data removed]",
      "text/plain": [
       "<matplotlib.figure.Figure at 0x7fa03dd23198>"
      ]
     },
     "metadata": {
      "needs_background": "light"
     },
     "output_type": "display_data"
    }
   ],
   "source": [
    "# Compare the distribution of values for at least five columns where there are\n",
    "# no or few missing values, between the two subsets.\n",
    "def missing_value_comp(column, subset1, subset2, threshold):\n",
    "    fig, axs = plt.subplots(1, 2, figsize=(15, 6), sharey=True)\n",
    "    \n",
    "    print(column)\n",
    "    axs[0].set_title('Missing values above {}'.format(threshold))\n",
    "    if column in subset1.columns:\n",
    "        axs[0].bar(subset1[column].value_counts().index, subset1[column].value_counts().values)\n",
    "\n",
    "    axs[1].set_title('Missing values below {}'.format(threshold))\n",
    "    if column in subset2.columns:\n",
    "        axs[1].bar(subset2[column].value_counts().index, subset2[column].value_counts().values)\n",
    "\n",
    "    plt.show()\n",
    "\n",
    "# Create two subsets based on the threshold\n",
    "subset_rows_above_threshold = azdias[missing_values_per_row >= threshold]\n",
    "subset_rows_below_threshold = azdias[missing_values_per_row < threshold]\n",
    "\n",
    "# Compare the distribution of values for each selected column\n",
    "low_null_count = azdias.isnull().sum().sort_values().index[:5].tolist()\n",
    "\n",
    "for column in low_null_count:\n",
    "    missing_value_comp(column, subset_rows_above_threshold, subset_rows_below_threshold, threshold)"
   ]
  },
  {
   "cell_type": "code",
   "execution_count": null,
   "metadata": {},
   "outputs": [],
   "source": []
  },
  {
   "cell_type": "markdown",
   "metadata": {},
   "source": [
    "#### Discussion 1.1.3: Assess Missing Data in Each Row\n",
    "\n",
    "Based on these bar graphs, it looks as though a very high percentage of the missing values are below the threshold of 30 I set."
   ]
  },
  {
   "cell_type": "markdown",
   "metadata": {},
   "source": [
    "### Step 1.2: Select and Re-Encode Features\n",
    "\n",
    "Checking for missing data isn't the only way in which you can prepare a dataset for analysis. Since the unsupervised learning techniques to be used will only work on data that is encoded numerically, you need to make a few encoding changes or additional assumptions to be able to make progress. In addition, while almost all of the values in the dataset are encoded using numbers, not all of them represent numeric values. Check the third column of the feature summary (`feat_info`) for a summary of types of measurement.\n",
    "- For numeric and interval data, these features can be kept without changes.\n",
    "- Most of the variables in the dataset are ordinal in nature. While ordinal values may technically be non-linear in spacing, make the simplifying assumption that the ordinal variables can be treated as being interval in nature (that is, kept without any changes).\n",
    "- Special handling may be necessary for the remaining two variable types: categorical, and 'mixed'.\n",
    "\n",
    "In the first two parts of this sub-step, you will perform an investigation of the categorical and mixed-type features and make a decision on each of them, whether you will keep, drop, or re-encode each. Then, in the last part, you will create a new data frame with only the selected and engineered columns.\n",
    "\n",
    "Data wrangling is often the trickiest part of the data analysis process, and there's a lot of it to be done here. But stick with it: once you're done with this step, you'll be ready to get to the machine learning parts of the project!"
   ]
  },
  {
   "cell_type": "code",
   "execution_count": 14,
   "metadata": {},
   "outputs": [
    {
     "name": "stdout",
     "output_type": "stream",
     "text": [
      "ordinal        49\n",
      "categorical    21\n",
      "mixed           7\n",
      "numeric         7\n",
      "interval        1\n",
      "Name: type, dtype: int64\n",
      "ordinal        49\n",
      "categorical    18\n",
      "mixed           6\n",
      "numeric         6\n",
      "Name: type, dtype: int64\n"
     ]
    }
   ],
   "source": [
    "# How many features are there of each data type?\n",
    "type_counts = feat_info['type'].value_counts()\n",
    "print(type_counts)\n",
    "\n",
    "# Count the number of features for each data type\n",
    "\n",
    "\n",
    "# Print the data type counts\n",
    "\n",
    "\n",
    "\n",
    "azdias_attributes = azdias.columns.tolist()\n",
    "\n",
    "feat_info = feat_info[feat_info['attribute'].isin(azdias_attributes)]\n",
    "\n",
    "print(feat_info['type'].value_counts())"
   ]
  },
  {
   "cell_type": "markdown",
   "metadata": {},
   "source": [
    "#### Step 1.2.1: Re-Encode Categorical Features\n",
    "\n",
    "For categorical data, you would ordinarily need to encode the levels as dummy variables. Depending on the number of categories, perform one of the following:\n",
    "- For binary (two-level) categoricals that take numeric values, you can keep them without needing to do anything.\n",
    "- There is one binary variable that takes on non-numeric values. For this one, you need to re-encode the values as numbers or create a dummy variable.\n",
    "- For multi-level categoricals (three or more values), you can choose to encode the values using multiple dummy variables (e.g. via [OneHotEncoder](http://scikit-learn.org/stable/modules/generated/sklearn.preprocessing.OneHotEncoder.html)), or (to keep things straightforward) just drop them from the analysis. As always, document your choices in the Discussion section."
   ]
  },
  {
   "cell_type": "code",
   "execution_count": 15,
   "metadata": {},
   "outputs": [
    {
     "name": "stdout",
     "output_type": "stream",
     "text": [
      "Binary variables: ['ANREDE_KZ', 'GREEN_AVANTGARDE', 'SOHO_KZ', 'VERS_TYP', 'OST_WEST_KZ']\n",
      "Multi-level variables: ['CJT_GESAMTTYP', 'FINANZTYP', 'GFK_URLAUBERTYP', 'LP_FAMILIE_FEIN', 'LP_FAMILIE_GROB', 'LP_STATUS_FEIN', 'LP_STATUS_GROB', 'NATIONALITAET_KZ', 'SHOPPER_TYP', 'ZABEOTYP', 'GEBAEUDETYP', 'CAMEO_DEUG_2015', 'CAMEO_DEU_2015']\n"
     ]
    }
   ],
   "source": [
    "# Assess categorical variables: which are binary, which are multi-level, and\n",
    "# which one needs to be re-encoded?\n",
    "\n",
    "categorical_variables = feat_info[feat_info['type'] == 'categorical'].attribute\n",
    "\n",
    "# Determine which variables are binary and which are multi-level\n",
    "binary_variables = []\n",
    "multi_level_variables = []\n",
    "\n",
    "for column in categorical_variables:\n",
    "    unique_values = azdias[column].nunique()\n",
    "    if unique_values == 2:\n",
    "        binary_variables.append(column)\n",
    "    else:\n",
    "        multi_level_variables.append(column)\n",
    "\n",
    "print(\"Binary variables:\", binary_variables)\n",
    "print(\"Multi-level variables:\", multi_level_variables)"
   ]
  },
  {
   "cell_type": "code",
   "execution_count": 16,
   "metadata": {},
   "outputs": [
    {
     "data": {
      "text/plain": [
       "\"label_encoder = LabelEncoder()\\ncolumn_to_encode = feat_info[feat_info['type'] == 'categorical']['attribute']\\nencoded_variable = label_encoder.fit_transform(column_to_encode)\""
      ]
     },
     "execution_count": 16,
     "metadata": {},
     "output_type": "execute_result"
    }
   ],
   "source": [
    "# Perform label encoding on a categorical variable\n",
    "\n",
    "from sklearn.preprocessing import LabelEncoder\n",
    "'''label_encoder = LabelEncoder()\n",
    "column_to_encode = feat_info[feat_info['type'] == 'categorical']['attribute']\n",
    "encoded_variable = label_encoder.fit_transform(column_to_encode)'''"
   ]
  },
  {
   "cell_type": "code",
   "execution_count": 17,
   "metadata": {},
   "outputs": [
    {
     "name": "stdout",
     "output_type": "stream",
     "text": [
      "Unique values for ANREDE_KZ are [1 2]\n",
      "Unique values for GREEN_AVANTGARDE are [0 1]\n",
      "Unique values for SOHO_KZ are [ nan   1.   0.]\n",
      "Unique values for VERS_TYP are [ nan   2.   1.]\n",
      "Unique values for OST_WEST_KZ are [nan 'W' 'O']\n"
     ]
    }
   ],
   "source": [
    "for feature in binary_variables:\n",
    "    print('Unique values for {} are {}'.format(feature, azdias[feature].unique()))\n",
    "    \n"
   ]
  },
  {
   "cell_type": "code",
   "execution_count": 18,
   "metadata": {},
   "outputs": [
    {
     "name": "stdout",
     "output_type": "stream",
     "text": [
      "Unique values for ANREDE_KZ are [1 2]\n",
      "Unique values for GREEN_AVANTGARDE are [0 1]\n",
      "Unique values for SOHO_KZ are [ nan   1.   0.]\n",
      "Unique values for VERS_TYP are [ nan   2.   1.]\n",
      "Unique values for OST_WEST_KZ are ['nan' 0 1]\n"
     ]
    }
   ],
   "source": [
    "\n",
    "updated_vars = {'W': 0, 'O': 1}\n",
    "azdias['OST_WEST_KZ'] = azdias['OST_WEST_KZ'].astype(str)\n",
    "azdias = azdias.replace({'OST_WEST_KZ': updated_vars})\n",
    "\n",
    "for feature in binary_variables:\n",
    "    print('Unique values for {} are {}'.format(feature, azdias[feature].unique()))\n",
    "    "
   ]
  },
  {
   "cell_type": "code",
   "execution_count": 19,
   "metadata": {},
   "outputs": [],
   "source": [
    "for feature in multi_level_variables:\n",
    "    azdias = azdias.drop(feature, axis=1)"
   ]
  },
  {
   "cell_type": "markdown",
   "metadata": {},
   "source": [
    "#### Discussion 1.2.1: Re-Encode Categorical Features\n"
   ]
  },
  {
   "cell_type": "markdown",
   "metadata": {},
   "source": [
    "#### Step 1.2.2: Engineer Mixed-Type Features\n",
    "\n",
    "There are a handful of features that are marked as \"mixed\" in the feature summary that require special treatment in order to be included in the analysis. There are two in particular that deserve attention; the handling of the rest are up to your own choices:\n",
    "- \"PRAEGENDE_JUGENDJAHRE\" combines information on three dimensions: generation by decade, movement (mainstream vs. avantgarde), and nation (east vs. west). While there aren't enough levels to disentangle east from west, you should create two new variables to capture the other two dimensions: an interval-type variable for decade, and a binary variable for movement.\n",
    "- \"CAMEO_INTL_2015\" combines information on two axes: wealth and life stage. Break up the two-digit codes by their 'tens'-place and 'ones'-place digits into two new ordinal variables (which, for the purposes of this project, is equivalent to just treating them as their raw numeric values).\n",
    "- If you decide to keep or engineer new features around the other mixed-type features, make sure you note your steps in the Discussion section.\n",
    "\n",
    "Be sure to check `Data_Dictionary.md` for the details needed to finish these tasks."
   ]
  },
  {
   "cell_type": "code",
   "execution_count": 20,
   "metadata": {},
   "outputs": [
    {
     "name": "stdout",
     "output_type": "stream",
     "text": [
      "Index(['ALTERSKATEGORIE_GROB', 'ANREDE_KZ', 'FINANZ_MINIMALIST',\n",
      "       'FINANZ_SPARER', 'FINANZ_VORSORGER', 'FINANZ_ANLEGER',\n",
      "       'FINANZ_UNAUFFAELLIGER', 'FINANZ_HAUSBAUER', 'GREEN_AVANTGARDE',\n",
      "       'HEALTH_TYP', 'LP_LEBENSPHASE_FEIN', 'LP_LEBENSPHASE_GROB',\n",
      "       'PRAEGENDE_JUGENDJAHRE', 'RETOURTYP_BK_S', 'SEMIO_SOZ', 'SEMIO_FAM',\n",
      "       'SEMIO_REL', 'SEMIO_MAT', 'SEMIO_VERT', 'SEMIO_LUST', 'SEMIO_ERL',\n",
      "       'SEMIO_KULT', 'SEMIO_RAT', 'SEMIO_KRIT', 'SEMIO_DOM', 'SEMIO_KAEM',\n",
      "       'SEMIO_PFLICHT', 'SEMIO_TRADV', 'SOHO_KZ', 'VERS_TYP', 'ANZ_PERSONEN',\n",
      "       'ANZ_TITEL', 'HH_EINKOMMEN_SCORE', 'W_KEIT_KIND_HH', 'WOHNDAUER_2008',\n",
      "       'ANZ_HAUSHALTE_AKTIV', 'ANZ_HH_TITEL', 'KONSUMNAEHE',\n",
      "       'MIN_GEBAEUDEJAHR', 'OST_WEST_KZ', 'WOHNLAGE', 'CAMEO_INTL_2015',\n",
      "       'KBA05_ANTG1', 'KBA05_ANTG2', 'KBA05_ANTG3', 'KBA05_ANTG4', 'KBA05_GBZ',\n",
      "       'BALLRAUM', 'EWDICHTE', 'INNENSTADT', 'GEBAEUDETYP_RASTER', 'KKK',\n",
      "       'MOBI_REGIO', 'ONLINE_AFFINITAET', 'REGIOTYP', 'KBA13_ANZAHL_PKW',\n",
      "       'PLZ8_ANTG1', 'PLZ8_ANTG2', 'PLZ8_ANTG3', 'PLZ8_ANTG4', 'PLZ8_BAUMAX',\n",
      "       'PLZ8_HHZ', 'PLZ8_GBZ', 'ARBEIT', 'ORTSGR_KLS9', 'RELAT_AB', 'DECADE',\n",
      "       'MOVEMENT', 'WEALTH', 'LIFE_STAGE'],\n",
      "      dtype='object')\n"
     ]
    }
   ],
   "source": [
    "\"\"\"# Investigate \"PRAEGENDE_JUGENDJAHRE\" and engineer two new variables.\n",
    "subset_rows_below_threshold['DECADE'] = subset_rows_below_threshold['PRAEGENDE_JUGENDJAHRE']\n",
    "subset_rows_below_threshold['MOVEMENT'] = subset_rows_below_threshold['PRAEGENDE_JUGENDJAHRE']\n",
    "\n",
    "decade_dict = {1:1, 2:1, 3:2, 4:2, 5:3, 6:3, 7:3, 8:4, 9:4, 10:5, 11:5, 12:5, 13:5, 14:6, 15:6}\n",
    "movement_dict = {1:1, 2:0, 3:1, 4:0, 5:1, 6:0, 7:0, 8:1, 9:0, 10:1, 11:0, 12:1, 13:0, 14:1, 15:0}\n",
    "subset_rows_below_threshold['DECADE'].replace(decade_dict, inplace=True)\n",
    "subset_rows_below_threshold['MOVEMENT'].replace(movement_dict, inplace=True)\n",
    "\n",
    "# Investigate \"CAMEO_INTL_2015\" and engineer two new variables.\n",
    "subset_rows_below_threshold['WEALTH'] = subset_rows_below_threshold['CAMEO_INTL_2015'].astype(str)\n",
    "subset_rows_below_threshold['LIFE_STAGE'] = subset_rows_below_threshold['CAMEO_INTL_2015'].astype(str)\n",
    "\n",
    "wealth_map = {'11':1, '12':1, '13':1, '14':1, '15':1, '21':2, '22':2, '23':2, '24':2, '25':2,\n",
    "               '31':3, '32':3, '33':3, '34':3, '35':3, '41':4, '42':4, '43':4, '44':4, '45':4,\n",
    "               '51':5, '52':5, '53':5, '54':5, '55':5}\n",
    "\n",
    "life_stage_map = {'11':1, '12':2, '13':3, '14':4, '15':5, '21':1, '22':2, '23':3, '24':4, '25':5,\n",
    "                   '31':1, '32':2, '33':3, '34':4, '35':5, '41':1, '42':2, '43':3, '44':4, '45':5,\n",
    "                   '51':1, '52':2, '53':3, '54':4, '55':5}\n",
    "\n",
    "subset_rows_below_threshold['WEALTH'].replace(wealth_map, inplace=True)\n",
    "subset_rows_below_threshold['LIFE_STAGE'].replace(life_stage_map, inplace=True)\n",
    "\n",
    "# Print the column names\n",
    "print(subset_rows_below_threshold.columns)\"\"\"\n",
    "\n",
    "\n",
    "\n",
    "# Investigate \"PRAEGENDE_JUGENDJAHRE\" and engineer two new variables.\n",
    "azdias['DECADE'] = azdias['PRAEGENDE_JUGENDJAHRE']\n",
    "azdias['MOVEMENT'] = azdias['PRAEGENDE_JUGENDJAHRE']\n",
    "\n",
    "decade_dict = {1:1, 2:1, 3:2, 4:2, 5:3, 6:3, 7:3, 8:4, 9:4, 10:5, 11:5, 12:5, 13:5, 14:6, 15:6}\n",
    "movement_dict = {1:1, 2:0, 3:1, 4:0, 5:1, 6:0, 7:0, 8:1, 9:0, 10:1, 11:0, 12:1, 13:0, 14:1, 15:0}\n",
    "azdias['DECADE'].replace(decade_dict, inplace=True)\n",
    "azdias['MOVEMENT'].replace(movement_dict, inplace=True)\n",
    "\n",
    "# Investigate \"CAMEO_INTL_2015\" and engineer two new variables.\n",
    "azdias['WEALTH'] = azdias['CAMEO_INTL_2015']#.astype(str)\n",
    "azdias['LIFE_STAGE'] = azdias['CAMEO_INTL_2015']#.astype(str)\n",
    "\n",
    "wealth_map = {'11':1, '12':1, '13':1, '14':1, '15':1, '21':2, '22':2, '23':2, '24':2, '25':2,\n",
    "               '31':3, '32':3, '33':3, '34':3, '35':3, '41':4, '42':4, '43':4, '44':4, '45':4,\n",
    "               '51':5, '52':5, '53':5, '54':5, '55':5}\n",
    "\n",
    "life_stage_map = {'11':1, '12':2, '13':3, '14':4, '15':5, '21':1, '22':2, '23':3, '24':4, '25':5,\n",
    "                   '31':1, '32':2, '33':3, '34':4, '35':5, '41':1, '42':2, '43':3, '44':4, '45':5,\n",
    "                   '51':1, '52':2, '53':3, '54':4, '55':5}\n",
    "\n",
    "azdias['WEALTH'].replace(wealth_map, inplace=True)\n",
    "azdias['LIFE_STAGE'].replace(life_stage_map, inplace=True)\n",
    "\n",
    "# Print the column names\n",
    "\"\"\"print(subset_rows_below_threshold.columns)\"\"\"\n",
    "\n",
    "print(azdias.columns)"
   ]
  },
  {
   "cell_type": "code",
   "execution_count": 21,
   "metadata": {},
   "outputs": [
    {
     "name": "stdout",
     "output_type": "stream",
     "text": [
      "0         NaN\n",
      "1         5.0\n",
      "2         2.0\n",
      "3         1.0\n",
      "4         4.0\n",
      "5         5.0\n",
      "6         2.0\n",
      "7         1.0\n",
      "8         1.0\n",
      "9         1.0\n",
      "10        5.0\n",
      "11        NaN\n",
      "12        4.0\n",
      "13        3.0\n",
      "14        NaN\n",
      "15        4.0\n",
      "16        4.0\n",
      "17        NaN\n",
      "18        2.0\n",
      "19        3.0\n",
      "20        2.0\n",
      "21        5.0\n",
      "22        5.0\n",
      "23        4.0\n",
      "24        NaN\n",
      "25        3.0\n",
      "26        NaN\n",
      "27        5.0\n",
      "28        1.0\n",
      "29        1.0\n",
      "         ... \n",
      "891191    4.0\n",
      "891192    3.0\n",
      "891193    4.0\n",
      "891194    2.0\n",
      "891195    5.0\n",
      "891196    2.0\n",
      "891197    2.0\n",
      "891198    1.0\n",
      "891199    5.0\n",
      "891200    5.0\n",
      "891201    4.0\n",
      "891202    4.0\n",
      "891203    2.0\n",
      "891204    2.0\n",
      "891205    3.0\n",
      "891206    2.0\n",
      "891207    4.0\n",
      "891208    1.0\n",
      "891209    5.0\n",
      "891210    4.0\n",
      "891211    5.0\n",
      "891212    5.0\n",
      "891213    3.0\n",
      "891214    2.0\n",
      "891215    3.0\n",
      "891216    4.0\n",
      "891217    5.0\n",
      "891218    2.0\n",
      "891219    5.0\n",
      "891220    4.0\n",
      "Name: CAMEO_INTL_2015_wealth, Length: 891221, dtype: float64\n",
      "0         NaN\n",
      "1         1.0\n",
      "2         4.0\n",
      "3         2.0\n",
      "4         3.0\n",
      "5         4.0\n",
      "6         2.0\n",
      "7         4.0\n",
      "8         3.0\n",
      "9         5.0\n",
      "10        1.0\n",
      "11        NaN\n",
      "12        3.0\n",
      "13        3.0\n",
      "14        NaN\n",
      "15        1.0\n",
      "16        1.0\n",
      "17        NaN\n",
      "18        4.0\n",
      "19        4.0\n",
      "20        4.0\n",
      "21        5.0\n",
      "22        1.0\n",
      "23        3.0\n",
      "24        NaN\n",
      "25        3.0\n",
      "26        NaN\n",
      "27        1.0\n",
      "28        3.0\n",
      "29        2.0\n",
      "         ... \n",
      "891191    4.0\n",
      "891192    2.0\n",
      "891193    3.0\n",
      "891194    4.0\n",
      "891195    5.0\n",
      "891196    3.0\n",
      "891197    4.0\n",
      "891198    4.0\n",
      "891199    1.0\n",
      "891200    2.0\n",
      "891201    1.0\n",
      "891202    1.0\n",
      "891203    5.0\n",
      "891204    4.0\n",
      "891205    4.0\n",
      "891206    5.0\n",
      "891207    1.0\n",
      "891208    4.0\n",
      "891209    1.0\n",
      "891210    1.0\n",
      "891211    1.0\n",
      "891212    1.0\n",
      "891213    4.0\n",
      "891214    3.0\n",
      "891215    1.0\n",
      "891216    1.0\n",
      "891217    1.0\n",
      "891218    4.0\n",
      "891219    1.0\n",
      "891220    3.0\n",
      "Name: CAMEO_INTL_2015_life_stage, Length: 891221, dtype: float64\n"
     ]
    }
   ],
   "source": [
    "# Investigate \"CAMEO_INTL_2015\" and engineer two new variables.\n",
    "\n",
    "\"\"\"subset_rows_below_threshold['CAMEO_INTL_2015_wealth'] = pd.to_numeric(subset_rows_below_threshold['CAMEO_INTL_2015'], errors='coerce') // 10\n",
    "print(subset_rows_below_threshold['CAMEO_INTL_2015_wealth'])\n",
    "\n",
    "# Create a new variable for life stage\n",
    "subset_rows_below_threshold['CAMEO_INTL_2015_life_stage'] = pd.to_numeric(subset_rows_below_threshold['CAMEO_INTL_2015'], errors='coerce') % 10\n",
    "print(subset_rows_below_threshold['CAMEO_INTL_2015_life_stage'])\"\"\"\n",
    "\n",
    "azdias['CAMEO_INTL_2015_wealth'] = pd.to_numeric(azdias['CAMEO_INTL_2015'], errors='coerce') // 10\n",
    "print(azdias['CAMEO_INTL_2015_wealth'])\n",
    "\n",
    "# Create a new variable for life stage\n",
    "azdias['CAMEO_INTL_2015_life_stage'] = pd.to_numeric(azdias['CAMEO_INTL_2015'], errors='coerce') % 10\n",
    "print(azdias['CAMEO_INTL_2015_life_stage'])"
   ]
  },
  {
   "cell_type": "markdown",
   "metadata": {},
   "source": [
    "#### Discussion 1.2.2: Engineer Mixed-Type Features\n",
    "\n",
    "(Double-click this cell and replace this text with your own text, reporting your findings and decisions regarding mixed-value features. Which ones did you keep, which did you drop, and what engineering steps did you perform?)\n",
    "\n"
   ]
  },
  {
   "cell_type": "markdown",
   "metadata": {},
   "source": [
    "#### Step 1.2.3: Complete Feature Selection\n",
    "\n",
    "In order to finish this step up, you need to make sure that your data frame now only has the columns that you want to keep. To summarize, the dataframe should consist of the following:\n",
    "- All numeric, interval, and ordinal type columns from the original dataset.\n",
    "- Binary categorical features (all numerically-encoded).\n",
    "- Engineered features from other multi-level categorical features and mixed features.\n",
    "\n",
    "Make sure that for any new columns that you have engineered, that you've excluded the original columns from the final dataset. Otherwise, their values will interfere with the analysis later on the project. For example, you should not keep \"PRAEGENDE_JUGENDJAHRE\", since its values won't be useful for the algorithm: only the values derived from it in the engineered features you created should be retained. As a reminder, your data should only be from **the subset with few or no missing values**."
   ]
  },
  {
   "cell_type": "code",
   "execution_count": 22,
   "metadata": {},
   "outputs": [],
   "source": [
    "# If there are other re-engineering tasks you need to perform, make sure you\n",
    "# take care of them here. (Dealing with missing data will come in step 2.1.)\n"
   ]
  },
  {
   "cell_type": "code",
   "execution_count": 23,
   "metadata": {},
   "outputs": [],
   "source": [
    "# Do whatever you need to in order to ensure that the dataframe only contains\n",
    "# the columns that should be passed to the algorithm functions.\n",
    "\n"
   ]
  },
  {
   "cell_type": "markdown",
   "metadata": {},
   "source": [
    "### Step 1.3: Create a Cleaning Function\n",
    "\n",
    "Even though you've finished cleaning up the general population demographics data, it's important to look ahead to the future and realize that you'll need to perform the same cleaning steps on the customer demographics data. In this substep, complete the function below to execute the main feature selection, encoding, and re-engineering steps you performed above. Then, when it comes to looking at the customer data in Step 3, you can just run this function on that DataFrame to get the trimmed dataset in a single step."
   ]
  },
  {
   "cell_type": "code",
   "execution_count": 24,
   "metadata": {},
   "outputs": [],
   "source": [
    "def clean_data(df, feat_info, threshold=30):\n",
    "    # Encode missing values consistently\n",
    "\n",
    "    for i, (column, values) in enumerate(df.iteritems()):\n",
    "        matching_attr = feat_info.loc[feat_info['attribute'] == column, 'missing_or_unknown']\n",
    "        if len(matching_attr) > 0:\n",
    "            become_NaN = matching_attr.values[0]\n",
    "            become_NaN = become_NaN[1:-1].split(',')\n",
    "        else:\n",
    "            become_NaN = ['']\n",
    "\n",
    "        if become_NaN != ['']:\n",
    "            temp_list = []\n",
    "            for x in become_NaN:\n",
    "                if x in ['X', 'XX']:\n",
    "                    temp_list.append(x)\n",
    "                else:\n",
    "                    temp_list.append(int(x))\n",
    "            df[column] = df[column].replace(temp_list, np.nan)\n",
    "\n",
    "    \n",
    "    \n",
    "    # Remove outlier columns\n",
    "    missing_percentages = df.isnull().sum() / len(df) * 100\n",
    "    outlier_columns = missing_percentages[missing_percentages > 30].index\n",
    "    df = df.drop(outlier_columns, axis=1)\n",
    "\n",
    "    # Divide the data into two subsets based on the number of missing values\n",
    "    missing_values_per_row = df.isnull().sum(axis=1)\n",
    "    subset1 = df[missing_values_per_row < threshold]\n",
    "    subset2 = df[missing_values_per_row >= threshold]\n",
    "\n",
    "    # Compare the distribution of values for selected columns between the two subsets\n",
    "    def missing_value_comp(column, subset1, subset2, threshold):\n",
    "        fig, axs = plt.subplots(1, 2, figsize=(15, 6), sharey=True)\n",
    "\n",
    "        print(column)\n",
    "        axs[0].set_title('Missing values above {}'.format(threshold))\n",
    "        if column in subset1.columns:\n",
    "            axs[0].bar(subset1[column].value_counts().index, subset1[column].value_counts().values)\n",
    "\n",
    "        axs[1].set_title('Missing values below {}'.format(threshold))\n",
    "        if column in subset2.columns:\n",
    "            axs[1].bar(subset2[column].value_counts().index, subset2[column].value_counts().values)\n",
    "\n",
    "        plt.show()\n",
    "\n",
    "    low_null_count = df.isnull().sum().sort_values().index[:5].tolist()\n",
    "    for column in low_null_count:\n",
    "        missing_value_comp(column, subset1, subset2, threshold)\n",
    "\n",
    "        \n",
    "    feat_info['NA_tags'] = feat_info['missing_or_unknown'].apply(string_to_int)\n",
    "    \n",
    "    df_attributes = df.columns.tolist()\n",
    "\n",
    "    feat_info = feat_info[feat_info['attribute'].isin(df_attributes)]\n",
    "    \n",
    "    # Process categorical variables\n",
    "    categorical_variables = feat_info[feat_info['type'] == 'categorical'].attribute\n",
    "    binary_variables = []\n",
    "    multi_level_variables = []\n",
    "\n",
    "    for column in categorical_variables:\n",
    "        unique_values = df[column].nunique()\n",
    "        if unique_values == 2:\n",
    "            binary_variables.append(column)\n",
    "        else:\n",
    "            multi_level_variables.append(column)\n",
    "\n",
    "    #label_encoder = LabelEncoder()\n",
    "    #column_to_encode = feat_info[feat_info['type'] == 'categorical']['attribute']\n",
    "    #encoded_variable = label_encoder.fit_transform(column_to_encode)\n",
    "\n",
    "    updated_vars = {'W': 0, 'O': 1}\n",
    "    df = df.replace({'OST_WEST_KZ': updated_vars})\n",
    "\n",
    "    #subset_rows_below_threshold['DECADE'] = subset_rows_below_threshold['PRAEGENDE_JUGENDJAHRE']\n",
    "    #subset_rows_below_threshold['MOVEMENT'] = subset_rows_below_threshold['PRAEGENDE_JUGENDJAHRE']\n",
    "    \n",
    "    for feature in multi_level_variables:\n",
    "        df = df.drop(feature, axis=1)\n",
    "\n",
    "    df['DECADE'] = df['PRAEGENDE_JUGENDJAHRE']\n",
    "    df['MOVEMENT'] = df['PRAEGENDE_JUGENDJAHRE']\n",
    "\n",
    "    decade_dict = {1: 1, 2: 1, 3: 2, 4: 2, 5: 3, 6: 3, 7: 3, 8: 4, 9: 4, 10: 5, 11: 5, 12: 5, 13: 5, 14: 6, 15: 6}\n",
    "    movement_dict = {1: 1, 2: 0, 3: 1, 4: 0, 5: 1, 6: 0, 7: 0, 8: 1, 9: 0, 10: 1, 11: 0, 12: 1, 13: 0, 14: 1, 15: 0}\n",
    "    \"\"\"subset_rows_below_threshold['DECADE'].replace(decade_dict, inplace=True)\n",
    "    subset_rows_below_threshold['MOVEMENT'].replace(movement_dict, inplace=True)\n",
    "\n",
    "    subset_rows_below_threshold['WEALTH'] = subset_rows_below_threshold['CAMEO_INTL_2015'].astype(str)\n",
    "    subset_rows_below_threshold['LIFE_STAGE'] = subset_rows_below_threshold['CAMEO_INTL_2015'].astype(str)\"\"\"\n",
    "    \n",
    "    df['DECADE'].replace(decade_dict, inplace=True)\n",
    "    df['MOVEMENT'].replace(movement_dict, inplace=True)\n",
    "\n",
    "    df['WEALTH'] = df['CAMEO_INTL_2015'].astype(str)\n",
    "    df['LIFE_STAGE'] = df['CAMEO_INTL_2015'].astype(str)\n",
    "\n",
    "    wealth_map = {'11': 1, '12': 1, '13': 1, '14': 1, '15': 1, '21': 2, '22': 2, '23': 2, '24': 2, '25': 2,\n",
    "                  '31': 3, '32': 3, '33': 3, '34': 3, '35': 3, '41': 4, '42': 4, '43': 4, '44': 4, '45': 4,\n",
    "                  '51': 5, '52': 5, '53': 5, '54': 5, '55': 5}\n",
    "\n",
    "    life_stage_map = {'11': 1, '12': 2, '13': 3, '14': 4, '15': 5, '21': 1, '22': 2, '23': 3, '24': 4, '25': 5,\n",
    "                      '31': 1, '32': 2, '33': 3, '34': 4, '35': 5, '41': 1, '42': 2, '43': 3, '44': 4, '45': 5,\n",
    "                      '51': 1, '52': 2, '53': 3, '54': 4, '55': 5}\n",
    "\n",
    "    \"\"\"subset_rows_below_threshold['WEALTH'].replace(wealth_map, inplace=True)\n",
    "    subset_rows_below_threshold['LIFE_STAGE'].replace(life_stage_map, inplace=True)\n",
    "\n",
    "\n",
    "    subset_rows_below_threshold['CAMEO_INTL_2015_wealth'] = pd.to_numeric(subset_rows_below_threshold['CAMEO_INTL_2015'], errors='coerce') // 10\n",
    "\n",
    "\n",
    "    subset_rows_below_threshold['CAMEO_INTL_2015_life_stage'] = pd.to_numeric(subset_rows_below_threshold['CAMEO_INTL_2015'], errors='coerce') % 10\n",
    "\"\"\"\n",
    "    df['WEALTH'].replace(wealth_map, inplace=True)\n",
    "    df['LIFE_STAGE'].replace(life_stage_map, inplace=True)\n",
    "\n",
    "\n",
    "    df['CAMEO_INTL_2015_wealth'] = pd.to_numeric(df['CAMEO_INTL_2015'], errors='coerce') // 10\n",
    "\n",
    "\n",
    "    df['CAMEO_INTL_2015_life_stage'] = pd.to_numeric(df['CAMEO_INTL_2015'], errors='coerce') % 10\n",
    "\n",
    "    return df\n"
   ]
  },
  {
   "cell_type": "code",
   "execution_count": null,
   "metadata": {},
   "outputs": [],
   "source": []
  },
  {
   "cell_type": "code",
   "execution_count": null,
   "metadata": {},
   "outputs": [],
   "source": []
  },
  {
   "cell_type": "markdown",
   "metadata": {},
   "source": [
    "## Step 2: Feature Transformation\n",
    "\n",
    "### Step 2.1: Apply Feature Scaling\n",
    "\n",
    "Before we apply dimensionality reduction techniques to the data, we need to perform feature scaling so that the principal component vectors are not influenced by the natural differences in scale for features. Starting from this part of the project, you'll want to keep an eye on the [API reference page for sklearn](http://scikit-learn.org/stable/modules/classes.html) to help you navigate to all of the classes and functions that you'll need. In this substep, you'll need to check the following:\n",
    "\n",
    "- sklearn requires that data not have missing values in order for its estimators to work properly. So, before applying the scaler to your data, make sure that you've cleaned the DataFrame of the remaining missing values. This can be as simple as just removing all data points with missing data, or applying an [Imputer](https://scikit-learn.org/0.16/modules/generated/sklearn.preprocessing.Imputer.html) to replace all missing values. You might also try a more complicated procedure where you temporarily remove missing values in order to compute the scaling parameters before re-introducing those missing values and applying imputation. Think about how much missing data you have and what possible effects each approach might have on your analysis, and justify your decision in the discussion section below.\n",
    "- For the actual scaling function, a [StandardScaler](http://scikit-learn.org/stable/modules/generated/sklearn.preprocessing.StandardScaler.html) instance is suggested, scaling each feature to mean 0 and standard deviation 1.\n",
    "- For these classes, you can make use of the `.fit_transform()` method to both fit a procedure to the data as well as apply the transformation to the data at the same time. Don't forget to keep the fit sklearn objects handy, since you'll be applying them to the customer demographics data towards the end of the project."
   ]
  },
  {
   "cell_type": "code",
   "execution_count": 25,
   "metadata": {},
   "outputs": [
    {
     "name": "stdout",
     "output_type": "stream",
     "text": [
      "       OST_WEST_KZ\n",
      "0              nan\n",
      "1                0\n",
      "2                0\n",
      "3                0\n",
      "4                0\n",
      "5                0\n",
      "6                0\n",
      "7                0\n",
      "8                0\n",
      "9                0\n",
      "10               0\n",
      "11             nan\n",
      "12               0\n",
      "13               0\n",
      "14             nan\n",
      "15               0\n",
      "16               0\n",
      "17             nan\n",
      "18               0\n",
      "19               0\n",
      "20               0\n",
      "21               0\n",
      "22               0\n",
      "23               0\n",
      "24             nan\n",
      "25               0\n",
      "26               0\n",
      "27               0\n",
      "28               0\n",
      "29               0\n",
      "...            ...\n",
      "891191           0\n",
      "891192           0\n",
      "891193           0\n",
      "891194           0\n",
      "891195           0\n",
      "891196           0\n",
      "891197           0\n",
      "891198           0\n",
      "891199           0\n",
      "891200           0\n",
      "891201           0\n",
      "891202           0\n",
      "891203           0\n",
      "891204           0\n",
      "891205           0\n",
      "891206           0\n",
      "891207           0\n",
      "891208           0\n",
      "891209           0\n",
      "891210           0\n",
      "891211           0\n",
      "891212           0\n",
      "891213           0\n",
      "891214           0\n",
      "891215           0\n",
      "891216           0\n",
      "891217           0\n",
      "891218           0\n",
      "891219           0\n",
      "891220           0\n",
      "\n",
      "[891221 rows x 1 columns]\n"
     ]
    }
   ],
   "source": [
    "\n",
    "import sklearn\n",
    "azdias['CAMEO_INTL_2015'] = pd.to_numeric(azdias['CAMEO_INTL_2015'], errors='coerce')\n",
    "non_integer_columns = azdias.select_dtypes(exclude=['int', 'float'])\n",
    "print(non_integer_columns)\n",
    "\n",
    "azdias.drop(non_integer_columns.columns, axis=1, inplace=True)\n"
   ]
  },
  {
   "cell_type": "code",
   "execution_count": 26,
   "metadata": {},
   "outputs": [
    {
     "name": "stdout",
     "output_type": "stream",
     "text": [
      "ZABEOTYP\n"
     ]
    },
    {
     "data": {
      "image/png": "[encoded data removed]",
      "text/plain": [
       "<matplotlib.figure.Figure at 0x7fa013eee2b0>"
      ]
     },
     "metadata": {
      "needs_background": "light"
     },
     "output_type": "display_data"
    },
    {
     "name": "stdout",
     "output_type": "stream",
     "text": [
      "SEMIO_REL\n"
     ]
    },
    {
     "data": {
      "image/png": "[encoded data removed]",
      "text/plain": [
       "<matplotlib.figure.Figure at 0x7fa03dca4d68>"
      ]
     },
     "metadata": {
      "needs_background": "light"
     },
     "output_type": "display_data"
    },
    {
     "name": "stdout",
     "output_type": "stream",
     "text": [
      "SEMIO_MAT\n"
     ]
    },
    {
     "data": {
      "image/png": "[encoded data removed]",
      "text/plain": [
       "<matplotlib.figure.Figure at 0x7f9ff2a0b0f0>"
      ]
     },
     "metadata": {
      "needs_background": "light"
     },
     "output_type": "display_data"
    },
    {
     "name": "stdout",
     "output_type": "stream",
     "text": [
      "SEMIO_VERT\n"
     ]
    },
    {
     "data": {
      "image/png": "[encoded data removed]",
      "text/plain": [
       "<matplotlib.figure.Figure at 0x7fa03dce7c88>"
      ]
     },
     "metadata": {
      "needs_background": "light"
     },
     "output_type": "display_data"
    },
    {
     "name": "stdout",
     "output_type": "stream",
     "text": [
      "SEMIO_LUST\n"
     ]
    },
    {
     "data": {
      "image/png": "[encoded data removed]",
      "text/plain": [
       "<matplotlib.figure.Figure at 0x7f9ff29a2cc0>"
      ]
     },
     "metadata": {
      "needs_background": "light"
     },
     "output_type": "display_data"
    }
   ],
   "source": [
    "azdias2 = clean_data(azdias_copy, feat_info_copy)"
   ]
  },
  {
   "cell_type": "code",
   "execution_count": 27,
   "metadata": {},
   "outputs": [
    {
     "name": "stdout",
     "output_type": "stream",
     "text": [
      "Mean of scaled data:\n",
      " [  2.50023509e-17   1.00463847e-16   3.50798291e-18   9.87975551e-17\n",
      "   5.94124742e-17  -3.31026024e-17   3.89705011e-17   1.50556248e-16\n",
      "   9.58317150e-18  -2.02857084e-16  -7.46721999e-17  -3.38121716e-17\n",
      "   5.23008361e-18   8.08829241e-17   5.95400372e-17  -7.46881452e-17\n",
      "  -2.04738639e-17   1.39681501e-16   2.17431159e-16   6.71061185e-17\n",
      "   2.31526872e-16   1.35503813e-16  -8.31073042e-17  -1.96638388e-16\n",
      "  -6.99683137e-17   1.03469550e-16  -2.74993969e-16   6.03691968e-17\n",
      "  -1.64875197e-17  -6.22826420e-17  -4.00388413e-17  -4.91117607e-18\n",
      "   1.82638347e-16  -1.12957050e-16   1.81585952e-16  -8.00457919e-18\n",
      "   3.63554593e-17  -8.43510436e-17   9.94554613e-15  -6.93304986e-17\n",
      "   1.23656398e-16   4.63851013e-17  -8.65036695e-18  -4.26140197e-17\n",
      "  -4.01185682e-17  -1.11266840e-16   4.37860049e-17   7.22644480e-17\n",
      "  -1.99026208e-16   1.94453871e-16   1.34132510e-16  -1.15540201e-16\n",
      "   1.65034651e-18   1.22699675e-16  -8.56585645e-17   9.61187317e-17\n",
      "   2.32483595e-16   8.86881861e-17  -1.83371834e-17  -2.08884437e-17\n",
      "   1.29715641e-16   1.08013983e-16  -1.56264693e-18   5.08458205e-17\n",
      "   1.16193961e-16  -8.25332707e-17  -1.13196230e-16   1.18155243e-17\n",
      "   8.35537748e-17   1.18155243e-17   8.35537748e-17]\n",
      "Standard deviation of scaled data:\n",
      " [ 1.  1.  1.  1.  1.  1.  1.  1.  1.  1.  1.  1.  1.  1.  1.  1.  1.  1.\n",
      "  1.  1.  1.  1.  1.  1.  1.  1.  1.  1.  1.  1.  1.  1.  1.  1.  1.  1.\n",
      "  1.  1.  1.  1.  1.  1.  1.  1.  1.  1.  1.  1.  1.  1.  1.  1.  1.  1.\n",
      "  1.  1.  1.  1.  1.  1.  1.  1.  1.  1.  1.  1.  1.  1.  1.  1.  1.]\n"
     ]
    }
   ],
   "source": [
    "# Apply feature scaling to the general population demographics data.\n",
    "\n",
    "\n",
    "\n",
    "from sklearn.preprocessing import StandardScaler, Imputer\n",
    "\n",
    "\n",
    "imputer = Imputer(strategy='most_frequent')\n",
    "azdias_imputed = pd.DataFrame(imputer.fit_transform(azdias))\n",
    "\n",
    "\n",
    "# Step 3: Apply feature scaling using StandardScaler\n",
    "scaler = StandardScaler()\n",
    "azdias_scaled = scaler.fit_transform(azdias_imputed)\n",
    "\n",
    "# Print the mean and standard deviation of the scaled data\n",
    "print(\"Mean of scaled data:\\n\", azdias_scaled.mean(axis=0))\n",
    "print(\"Standard deviation of scaled data:\\n\", azdias_scaled.std(axis=0))"
   ]
  },
  {
   "cell_type": "code",
   "execution_count": 28,
   "metadata": {},
   "outputs": [
    {
     "data": {
      "text/plain": [
       "\"non_integer_columns = azdias.select_dtypes(exclude=['int', 'float'])\\nprint(non_integer_columns)\\n\\nazdias.drop(non_integer_columns.columns, axis=1, inplace=True)\""
      ]
     },
     "execution_count": 28,
     "metadata": {},
     "output_type": "execute_result"
    }
   ],
   "source": [
    "# If you've not yet cleaned the dataset of all NaN values, then investigate and\n",
    "# do that now.\n",
    "\n",
    "\n",
    "import sklearn\n",
    "\n",
    "'''non_integer_columns = azdias.select_dtypes(exclude=['int', 'float'])\n",
    "print(non_integer_columns)\n",
    "\n",
    "azdias.drop(non_integer_columns.columns, axis=1, inplace=True)'''"
   ]
  },
  {
   "cell_type": "code",
   "execution_count": null,
   "metadata": {
    "scrolled": true
   },
   "outputs": [],
   "source": [
    "\n",
    "\n"
   ]
  },
  {
   "cell_type": "code",
   "execution_count": null,
   "metadata": {},
   "outputs": [],
   "source": []
  },
  {
   "cell_type": "code",
   "execution_count": 29,
   "metadata": {},
   "outputs": [],
   "source": [
    "missing_values = azdias_imputed.isnull().sum()\n"
   ]
  },
  {
   "cell_type": "markdown",
   "metadata": {},
   "source": [
    "### Discussion 2.1: Apply Feature Scaling\n",
    "\n",
    "(Double-click this cell and replace this text with your own text, reporting your decisions regarding feature scaling.)"
   ]
  },
  {
   "cell_type": "markdown",
   "metadata": {},
   "source": [
    "### Step 2.2: Perform Dimensionality Reduction\n",
    "\n",
    "On your scaled data, you are now ready to apply dimensionality reduction techniques.\n",
    "\n",
    "- Use sklearn's [PCA](http://scikit-learn.org/stable/modules/generated/sklearn.decomposition.PCA.html) class to apply principal component analysis on the data, thus finding the vectors of maximal variance in the data. To start, you should not set any parameters (so all components are computed) or set a number of components that is at least half the number of features (so there's enough features to see the general trend in variability).\n",
    "- Check out the ratio of variance explained by each principal component as well as the cumulative variance explained. Try plotting the cumulative or sequential values using matplotlib's [`plot()`](https://matplotlib.org/api/_as_gen/matplotlib.pyplot.plot.html) function. Based on what you find, select a value for the number of transformed features you'll retain for the clustering part of the project.\n",
    "- Once you've made a choice for the number of components to keep, make sure you re-fit a PCA instance to perform the decided-on transformation."
   ]
  },
  {
   "cell_type": "code",
   "execution_count": 30,
   "metadata": {},
   "outputs": [
    {
     "data": {
      "image/png": "[encoded data removed]",
      "text/plain": [
       "<matplotlib.figure.Figure at 0x7f9ff21172b0>"
      ]
     },
     "metadata": {
      "needs_background": "light"
     },
     "output_type": "display_data"
    }
   ],
   "source": [
    "# Apply PCA to the data.\n",
    "\n",
    "from sklearn.decomposition import PCA\n",
    "\n",
    "# Create an instance of PCA\n",
    "pca = PCA()\n",
    "\n",
    "# Fit PCA on the data\n",
    "pca.fit(azdias_imputed)\n",
    "\n",
    "# Check the explained variance ratio of each principal component\n",
    "explained_variance_ratio = pca.explained_variance_ratio_\n",
    "\n",
    "# Calculate the cumulative explained variance\n",
    "cumulative_variance = np.cumsum(explained_variance_ratio)\n",
    "\n",
    "# Plot the cumulative explained variance\n",
    "plt.plot(range(1, len(cumulative_variance) + 1), cumulative_variance)\n",
    "plt.xlabel('Number of Principal Components')\n",
    "plt.ylabel('Cumulative Explained Variance')\n",
    "plt.title('Cumulative Explained Variance vs. Number of Principal Components')\n",
    "plt.show()"
   ]
  },
  {
   "cell_type": "code",
   "execution_count": 31,
   "metadata": {},
   "outputs": [
    {
     "name": "stdout",
     "output_type": "stream",
     "text": [
      "Principal Component 1: 0.9955\n",
      "Principal Component 2: 0.0018\n",
      "Principal Component 3: 0.0010\n",
      "Principal Component 4: 0.0008\n",
      "Principal Component 5: 0.0002\n",
      "Principal Component 6: 0.0001\n",
      "Principal Component 7: 0.0001\n",
      "Principal Component 8: 0.0001\n",
      "Principal Component 9: 0.0000\n",
      "Principal Component 10: 0.0000\n",
      "Principal Component 11: 0.0000\n",
      "Principal Component 12: 0.0000\n",
      "Principal Component 13: 0.0000\n",
      "Principal Component 14: 0.0000\n",
      "Principal Component 15: 0.0000\n",
      "Principal Component 16: 0.0000\n",
      "Principal Component 17: 0.0000\n",
      "Principal Component 18: 0.0000\n",
      "Principal Component 19: 0.0000\n",
      "Principal Component 20: 0.0000\n",
      "Principal Component 21: 0.0000\n",
      "Principal Component 22: 0.0000\n",
      "Principal Component 23: 0.0000\n",
      "Principal Component 24: 0.0000\n",
      "Principal Component 25: 0.0000\n",
      "Principal Component 26: 0.0000\n",
      "Principal Component 27: 0.0000\n",
      "Principal Component 28: 0.0000\n",
      "Principal Component 29: 0.0000\n",
      "Principal Component 30: 0.0000\n",
      "Principal Component 31: 0.0000\n",
      "Principal Component 32: 0.0000\n",
      "Principal Component 33: 0.0000\n",
      "Principal Component 34: 0.0000\n",
      "Principal Component 35: 0.0000\n",
      "Principal Component 36: 0.0000\n",
      "Principal Component 37: 0.0000\n",
      "Principal Component 38: 0.0000\n",
      "Principal Component 39: 0.0000\n",
      "Principal Component 40: 0.0000\n",
      "Principal Component 41: 0.0000\n",
      "Principal Component 42: 0.0000\n",
      "Principal Component 43: 0.0000\n",
      "Principal Component 44: 0.0000\n",
      "Principal Component 45: 0.0000\n",
      "Principal Component 46: 0.0000\n",
      "Principal Component 47: 0.0000\n",
      "Principal Component 48: 0.0000\n",
      "Principal Component 49: 0.0000\n",
      "Principal Component 50: 0.0000\n",
      "Principal Component 51: 0.0000\n",
      "Principal Component 52: 0.0000\n",
      "Principal Component 53: 0.0000\n",
      "Principal Component 54: 0.0000\n",
      "Principal Component 55: 0.0000\n",
      "Principal Component 56: 0.0000\n",
      "Principal Component 57: 0.0000\n",
      "Principal Component 58: 0.0000\n",
      "Principal Component 59: 0.0000\n",
      "Principal Component 60: 0.0000\n",
      "Principal Component 61: 0.0000\n",
      "Principal Component 62: 0.0000\n",
      "Principal Component 63: 0.0000\n",
      "Principal Component 64: 0.0000\n",
      "Principal Component 65: 0.0000\n",
      "Principal Component 66: 0.0000\n",
      "Principal Component 67: 0.0000\n",
      "Principal Component 68: 0.0000\n",
      "Principal Component 69: 0.0000\n",
      "Principal Component 70: 0.0000\n",
      "Principal Component 71: 0.0000\n"
     ]
    }
   ],
   "source": [
    "# Investigate the variance accounted for by each principal component.\n",
    "\n",
    "explained_variance_ratio = pca.explained_variance_ratio_\n",
    "\n",
    "# Print the variance accounted for by each principal component\n",
    "for i, ratio in enumerate(explained_variance_ratio):\n",
    "    print(f\"Principal Component {i+1}: {ratio:.4f}\")\n"
   ]
  },
  {
   "cell_type": "code",
   "execution_count": 32,
   "metadata": {},
   "outputs": [],
   "source": [
    "# Re-apply PCA to the data while selecting for number of components to retain.\n",
    "\n",
    "threshold = 0.95\n",
    "\n",
    "\n",
    "# Re-apply PCA with the selected number of components\n",
    "pca = PCA(n_components=32, svd_solver='full')\n",
    "data_transformed = pca.fit_transform(azdias_imputed)"
   ]
  },
  {
   "cell_type": "markdown",
   "metadata": {},
   "source": [
    "### Discussion 2.2: Perform Dimensionality Reduction\n",
    "\n"
   ]
  },
  {
   "cell_type": "markdown",
   "metadata": {},
   "source": [
    "### Step 2.3: Interpret Principal Components\n",
    "\n",
    "Now that we have our transformed principal components, it's a nice idea to check out the weight of each variable on the first few components to see if they can be interpreted in some fashion.\n",
    "\n",
    "As a reminder, each principal component is a unit vector that points in the direction of highest variance (after accounting for the variance captured by earlier principal components). The further a weight is from zero, the more the principal component is in the direction of the corresponding feature. If two features have large weights of the same sign (both positive or both negative), then increases in one tend expect to be associated with increases in the other. To contrast, features with different signs can be expected to show a negative correlation: increases in one variable should result in a decrease in the other.\n",
    "\n",
    "- To investigate the features, you should map each weight to their corresponding feature name, then sort the features according to weight. The most interesting features for each principal component, then, will be those at the beginning and end of the sorted list. Use the data dictionary document to help you understand these most prominent features, their relationships, and what a positive or negative value on the principal component might indicate.\n",
    "- You should investigate and interpret feature associations from the first three principal components in this substep. To help facilitate this, you should write a function that you can call at any time to print the sorted list of feature weights, for the *i*-th principal component. This might come in handy in the next step of the project, when you interpret the tendencies of the discovered clusters."
   ]
  },
  {
   "cell_type": "code",
   "execution_count": 33,
   "metadata": {},
   "outputs": [
    {
     "name": "stdout",
     "output_type": "stream",
     "text": [
      "Feature: 12, Weight: 0.0016687684494805545\n",
      "Feature: 10, Weight: -0.00127925267247443\n",
      "Feature: 6, Weight: 0.0010560181398555847\n",
      "Feature: 18, Weight: -0.0009858712130715777\n",
      "Feature: 14, Weight: -0.0009464063189387295\n",
      "Feature: 16, Weight: 0.0009428012863129258\n",
      "Feature: 23, Weight: 0.0009109967075185041\n",
      "Feature: 5, Weight: 0.0008242826707584261\n",
      "Feature: 15, Weight: 0.0005835513298495709\n",
      "Feature: 21, Weight: -0.0005713462700074915\n",
      "Feature: 20, Weight: -0.0005607593621386606\n",
      "Feature: 25, Weight: 0.0005146466267561886\n",
      "Feature: 7, Weight: -0.000513172660278452\n",
      "Feature: 17, Weight: 0.000480849860487577\n",
      "Feature: 24, Weight: 0.0004548361509027073\n",
      "Feature: 3, Weight: 0.00035510807151448653\n",
      "Feature: 2, Weight: 0.00028674069542042324\n",
      "Feature: 27, Weight: -0.00023236133469425584\n",
      "Feature: 26, Weight: 0.00023121698955258396\n",
      "Feature: 9, Weight: 0.0002186196052459407\n",
      "Feature: 30, Weight: -0.00016120057897793224\n",
      "Feature: 13, Weight: -0.00015255414213009226\n",
      "Feature: 0, Weight: -0.0001350643618199786\n",
      "Feature: 11, Weight: -0.00013224919506031558\n",
      "Feature: 19, Weight: 0.00010875615647885486\n",
      "Feature: 29, Weight: 0.00010315884397290356\n",
      "Feature: 22, Weight: 5.819948701573896e-05\n",
      "Feature: 8, Weight: -3.62327613884429e-05\n",
      "Feature: 4, Weight: -1.1093276768465273e-05\n",
      "Feature: 1, Weight: 9.877429402616045e-06\n",
      "Feature: 28, Weight: -2.641389110602884e-06\n",
      "Feature: 31, Weight: -1.268940560753558e-06\n"
     ]
    }
   ],
   "source": [
    "# Map weights for the first principal component to corresponding feature names\n",
    "# and then print the linked values, sorted by weight.\n",
    "# HINT: Try defining a function here or in a new cell that you can reuse in the\n",
    "# other cells.\n",
    "\n",
    "def print_sorted_feature_weights(pca, component_idx, feature_names):\n",
    "    # Get the weights for the specified principal component\n",
    "    weights = pca.components_[component_idx]\n",
    "\n",
    "    # Create a dictionary mapping feature names to weights\n",
    "    feature_weights = dict(zip(feature_names, weights))\n",
    "\n",
    "    # Sort the feature weights by absolute value\n",
    "    sorted_weights = sorted(feature_weights.items(), key=lambda x: abs(x[1]), reverse=True)\n",
    "\n",
    "    # Print the sorted feature weights\n",
    "    for feature, weight in sorted_weights:\n",
    "        print(f\"Feature: {feature}, Weight: {weight}\")\n",
    "\n",
    "        \n",
    "data_transformed = pd.DataFrame(data_transformed)\n",
    "# Call the function for the first principal component\n",
    "print_sorted_feature_weights(pca, 0, data_transformed)"
   ]
  },
  {
   "cell_type": "code",
   "execution_count": 34,
   "metadata": {},
   "outputs": [
    {
     "name": "stdout",
     "output_type": "stream",
     "text": [
      "Feature: CAMEO_INTL_2015, Weight: 0.6280404059428704\n",
      "Feature: ANZ_HAUSHALTE_AKTIV, Weight: 0.6045908772185821\n",
      "Feature: WEALTH, Weight: 0.06600283431935323\n",
      "Feature: CAMEO_INTL_2015_wealth, Weight: 0.0660028343193532\n",
      "Feature: ORTSGR_KLS9, Weight: 0.05035066270621364\n",
      "Feature: HH_EINKOMMEN_SCORE, Weight: 0.045384992071079266\n",
      "Feature: EWDICHTE, Weight: 0.04396360953190383\n",
      "Feature: PLZ8_BAUMAX, Weight: 0.0357075223791556\n",
      "Feature: FINANZ_HAUSBAUER, Weight: 0.03548245557728911\n",
      "Feature: W_KEIT_KIND_HH, Weight: 0.0351754667342272\n",
      "Feature: PLZ8_ANTG3, Weight: 0.027423521868983173\n",
      "Feature: PRAEGENDE_JUGENDJAHRE, Weight: 0.022803317319370325\n",
      "Feature: RELAT_AB, Weight: 0.02118577038288566\n",
      "Feature: REGIOTYP, Weight: 0.01972840044850864\n",
      "Feature: ARBEIT, Weight: 0.019712328655738364\n",
      "Feature: SEMIO_REL, Weight: 0.019335415928087345\n",
      "Feature: PLZ8_ANTG4, Weight: 0.018419903652765045\n",
      "Feature: FINANZ_SPARER, Weight: 0.017915800936447734\n",
      "Feature: KBA05_ANTG4, Weight: 0.016911040917511107\n",
      "Feature: SEMIO_FAM, Weight: 0.016344441422583744\n",
      "Feature: PLZ8_ANTG2, Weight: 0.01583545787801288\n",
      "Feature: SEMIO_KAEM, Weight: 0.013167101412129721\n",
      "Feature: SEMIO_KRIT, Weight: 0.012703476699890946\n",
      "Feature: SEMIO_PFLICHT, Weight: 0.012610195610331882\n",
      "Feature: SEMIO_MAT, Weight: 0.012452812829320653\n",
      "Feature: KBA05_ANTG3, Weight: 0.01224236514581442\n",
      "Feature: DECADE, Weight: 0.009946932410436857\n",
      "Feature: FINANZ_ANLEGER, Weight: 0.008907918777015064\n",
      "Feature: MOVEMENT, Weight: 0.008323426590623606\n",
      "Feature: KKK, Weight: 0.0070088443085964515\n",
      "Feature: SEMIO_DOM, Weight: 0.006445347629109947\n",
      "Feature: FINANZ_UNAUFFAELLIGER, Weight: 0.005721887087606629\n",
      "Feature: SEMIO_RAT, Weight: 0.005305448467863376\n",
      "Feature: RETOURTYP_BK_S, Weight: 0.0052224177316498544\n",
      "Feature: PLZ8_HHZ, Weight: 0.004553325368845306\n",
      "Feature: HEALTH_TYP, Weight: 0.004255941063368629\n",
      "Feature: ANZ_HH_TITEL, Weight: 0.004002525415301951\n",
      "Feature: VERS_TYP, Weight: 0.003629281771133838\n",
      "Feature: SEMIO_KULT, Weight: 0.0027196395378490815\n",
      "Feature: KBA13_ANZAHL_PKW, Weight: 0.0016180913655320696\n",
      "Feature: ANREDE_KZ, Weight: 0.00045856431390005337\n",
      "Feature: SEMIO_SOZ, Weight: 0.0002940607349494612\n",
      "Feature: SOHO_KZ, Weight: -5.881096223512574e-05\n",
      "Feature: ANZ_TITEL, Weight: -8.315482656670298e-05\n",
      "Feature: SEMIO_TRADV, Weight: -0.00019558136821214638\n",
      "Feature: SEMIO_LUST, Weight: -0.0018110332279307226\n",
      "Feature: ALTERSKATEGORIE_GROB, Weight: -0.004927426028058275\n",
      "Feature: KBA05_ANTG2, Weight: -0.005692378171746901\n",
      "Feature: FINANZ_VORSORGER, Weight: -0.008214787705654036\n",
      "Feature: SEMIO_ERL, Weight: -0.008281046194652392\n",
      "Feature: GREEN_AVANTGARDE, Weight: -0.008323426590630826\n",
      "Feature: WOHNDAUER_2008, Weight: -0.011562423708718628\n",
      "Feature: GEBAEUDETYP_RASTER, Weight: -0.014633299220028219\n",
      "Feature: WOHNLAGE, Weight: -0.016549020928658478\n",
      "Feature: SEMIO_VERT, Weight: -0.018878311611942124\n",
      "Feature: BALLRAUM, Weight: -0.02247600201861505\n",
      "Feature: PLZ8_GBZ, Weight: -0.024488794493129\n",
      "Feature: ANZ_PERSONEN, Weight: -0.027497193253738006\n",
      "Feature: PLZ8_ANTG1, Weight: -0.02829879364169121\n",
      "Feature: ONLINE_AFFINITAET, Weight: -0.029662022264261696\n",
      "Feature: LIFE_STAGE, Weight: -0.03198793725065745\n",
      "Feature: CAMEO_INTL_2015_life_stage, Weight: -0.03198793725065745\n",
      "Feature: INNENSTADT, Weight: -0.034548805652624776\n",
      "Feature: MIN_GEBAEUDEJAHR, Weight: -0.03476538770905135\n",
      "Feature: FINANZ_MINIMALIST, Weight: -0.03582028138230742\n",
      "Feature: KONSUMNAEHE, Weight: -0.03833977345663117\n",
      "Feature: KBA05_GBZ, Weight: -0.041870144156118415\n",
      "Feature: KBA05_ANTG1, Weight: -0.04622378816730094\n",
      "Feature: MOBI_REGIO, Weight: -0.053420089272978026\n",
      "Feature: LP_LEBENSPHASE_GROB, Weight: -0.1176837053156194\n",
      "Feature: LP_LEBENSPHASE_FEIN, Weight: -0.4275551363566752\n"
     ]
    }
   ],
   "source": [
    "# Map weights for the second principal component to corresponding feature names\n",
    "# and then print the linked values, sorted by weight.\n",
    "\n",
    "component_num = 1  # Second principal component (0-indexed)\n",
    "feature_names = azdias.columns\n",
    "\n",
    "# Create a dictionary mapping feature names to weights\n",
    "component_weights = dict(zip(feature_names, pca.components_[component_num]))\n",
    "\n",
    "# Sort the dictionary by weights in descending order\n",
    "sorted_weights = sorted(component_weights.items(), key=lambda x: x[1], reverse=True)\n",
    "\n",
    "# Print the feature names and their corresponding weights\n",
    "for feature, weight in sorted_weights:\n",
    "    print(f\"Feature: {feature}, Weight: {weight}\")"
   ]
  },
  {
   "cell_type": "code",
   "execution_count": 35,
   "metadata": {},
   "outputs": [
    {
     "name": "stdout",
     "output_type": "stream",
     "text": [
      "Feature: ANZ_HAUSHALTE_AKTIV, Weight: 0.7824400551447052\n",
      "Feature: LP_LEBENSPHASE_FEIN, Weight: 0.4450207927473224\n",
      "Feature: LP_LEBENSPHASE_GROB, Weight: 0.12572067484316501\n",
      "Feature: ANZ_PERSONEN, Weight: 0.030911848389610894\n",
      "Feature: LIFE_STAGE, Weight: 0.025458261917707357\n",
      "Feature: CAMEO_INTL_2015_life_stage, Weight: 0.025458261917707357\n",
      "Feature: SEMIO_VERT, Weight: 0.0232773389604192\n",
      "Feature: ONLINE_AFFINITAET, Weight: 0.020166532104016602\n",
      "Feature: KONSUMNAEHE, Weight: 0.017129746697426066\n",
      "Feature: KBA05_ANTG1, Weight: 0.016828413239594685\n",
      "Feature: SEMIO_SOZ, Weight: 0.013694917415158584\n",
      "Feature: SEMIO_ERL, Weight: 0.0133806073764911\n",
      "Feature: MOBI_REGIO, Weight: 0.01295228121200008\n",
      "Feature: PLZ8_HHZ, Weight: 0.012181441399427652\n",
      "Feature: KBA05_ANTG4, Weight: 0.011888450225892765\n",
      "Feature: FINANZ_VORSORGER, Weight: 0.011222076383743396\n",
      "Feature: MIN_GEBAEUDEJAHR, Weight: 0.010884486331948268\n",
      "Feature: FINANZ_MINIMALIST, Weight: 0.010393125880748477\n",
      "Feature: PLZ8_GBZ, Weight: 0.010006146443514745\n",
      "Feature: PLZ8_ANTG1, Weight: 0.009575816984175521\n",
      "Feature: WOHNLAGE, Weight: 0.008010136269498565\n",
      "Feature: ANZ_HH_TITEL, Weight: 0.007008813204945475\n",
      "Feature: WOHNDAUER_2008, Weight: 0.006548561677827597\n",
      "Feature: ALTERSKATEGORIE_GROB, Weight: 0.0061584788814941244\n",
      "Feature: KBA13_ANZAHL_PKW, Weight: 0.006033142835606075\n",
      "Feature: SEMIO_LUST, Weight: 0.005269819611221144\n",
      "Feature: GREEN_AVANTGARDE, Weight: 0.004986769106144347\n",
      "Feature: PLZ8_ANTG4, Weight: 0.0037122457283970465\n",
      "Feature: RETOURTYP_BK_S, Weight: 0.003118874592247573\n",
      "Feature: SEMIO_KULT, Weight: 0.0009361601881034767\n",
      "Feature: PLZ8_BAUMAX, Weight: 0.0005884508196773793\n",
      "Feature: ANZ_TITEL, Weight: 0.00010921691086792361\n",
      "Feature: SOHO_KZ, Weight: 7.966180127668242e-05\n",
      "Feature: SEMIO_TRADV, Weight: -0.0003471015809580398\n",
      "Feature: ANREDE_KZ, Weight: -0.0005368539484281384\n",
      "Feature: INNENSTADT, Weight: -0.0014166532693453695\n",
      "Feature: ORTSGR_KLS9, Weight: -0.0019929235905937234\n",
      "Feature: VERS_TYP, Weight: -0.0027366676252736826\n",
      "Feature: KBA05_GBZ, Weight: -0.002926530462160087\n",
      "Feature: MOVEMENT, Weight: -0.004986769106138233\n",
      "Feature: HEALTH_TYP, Weight: -0.005436281057449098\n",
      "Feature: GEBAEUDETYP_RASTER, Weight: -0.005693512195784297\n",
      "Feature: FINANZ_HAUSBAUER, Weight: -0.0066495880282927255\n",
      "Feature: SEMIO_RAT, Weight: -0.007208129421350534\n",
      "Feature: KKK, Weight: -0.007487950926921683\n",
      "Feature: SEMIO_DOM, Weight: -0.008088235647870996\n",
      "Feature: HH_EINKOMMEN_SCORE, Weight: -0.010130847986702466\n",
      "Feature: SEMIO_KAEM, Weight: -0.011097514996251293\n",
      "Feature: RELAT_AB, Weight: -0.011463281975448655\n",
      "Feature: PLZ8_ANTG3, Weight: -0.011523993106094138\n",
      "Feature: KBA05_ANTG3, Weight: -0.011911817715732857\n",
      "Feature: KBA05_ANTG2, Weight: -0.012368426354493653\n",
      "Feature: PLZ8_ANTG2, Weight: -0.013580087269637168\n",
      "Feature: SEMIO_PFLICHT, Weight: -0.013956546109971357\n",
      "Feature: SEMIO_MAT, Weight: -0.013961836693530584\n",
      "Feature: SEMIO_FAM, Weight: -0.015022268477923621\n",
      "Feature: DECADE, Weight: -0.015408302273695515\n",
      "Feature: ARBEIT, Weight: -0.01541688630145778\n",
      "Feature: EWDICHTE, Weight: -0.01709339189072093\n",
      "Feature: FINANZ_SPARER, Weight: -0.017283241670553284\n",
      "Feature: REGIOTYP, Weight: -0.017567578881502302\n",
      "Feature: BALLRAUM, Weight: -0.01827921481740086\n",
      "Feature: SEMIO_KRIT, Weight: -0.01966153398359378\n",
      "Feature: FINANZ_ANLEGER, Weight: -0.020016899848692815\n",
      "Feature: FINANZ_UNAUFFAELLIGER, Weight: -0.02156649050417765\n",
      "Feature: SEMIO_REL, Weight: -0.025395140500263622\n",
      "Feature: W_KEIT_KIND_HH, Weight: -0.03790927407620096\n",
      "Feature: PRAEGENDE_JUGENDJAHRE, Weight: -0.04042946063374196\n",
      "Feature: WEALTH, Weight: -0.04208735491658218\n",
      "Feature: CAMEO_INTL_2015_wealth, Weight: -0.04208735491658218\n",
      "Feature: CAMEO_INTL_2015, Weight: -0.3954152872480424\n"
     ]
    }
   ],
   "source": [
    "# Map weights for the third principal component to corresponding feature names\n",
    "# and then print the linked values, sorted by weight.\n",
    "\n",
    "feature_names = azdias.columns\n",
    "\n",
    "# Get the weights for the third principal component\n",
    "weights = pca.components_[2]\n",
    "\n",
    "# Create a dictionary that maps feature names to weights\n",
    "feature_weights = dict(zip(feature_names, weights))\n",
    "\n",
    "# Sort the dictionary by weight in descending order\n",
    "sorted_feature_weights = sorted(feature_weights.items(), key=lambda x: x[1], reverse=True)\n",
    "\n",
    "# Print the feature names and their corresponding weights\n",
    "for feature, weight in sorted_feature_weights:\n",
    "    print(f\"Feature: {feature}, Weight: {weight}\")"
   ]
  },
  {
   "cell_type": "markdown",
   "metadata": {},
   "source": [
    "### Discussion 2.3: Interpret Principal Components\n",
    "\n",
    "(Double-click this cell and replace this text with your own text, reporting your observations from detailed investigation of the first few principal components generated. Can we interpret positive and negative values from them in a meaningful way?)"
   ]
  },
  {
   "cell_type": "markdown",
   "metadata": {},
   "source": [
    "## Step 3: Clustering\n",
    "\n",
    "### Step 3.1: Apply Clustering to General Population\n",
    "\n",
    "You've assessed and cleaned the demographics data, then scaled and transformed them. Now, it's time to see how the data clusters in the principal components space. In this substep, you will apply k-means clustering to the dataset and use the average within-cluster distances from each point to their assigned cluster's centroid to decide on a number of clusters to keep.\n",
    "\n",
    "- Use sklearn's [KMeans](http://scikit-learn.org/stable/modules/generated/sklearn.cluster.KMeans.html#sklearn.cluster.KMeans) class to perform k-means clustering on the PCA-transformed data.\n",
    "- Then, compute the average difference from each point to its assigned cluster's center. **Hint**: The KMeans object's `.score()` method might be useful here, but note that in sklearn, scores tend to be defined so that larger is better. Try applying it to a small, toy dataset, or use an internet search to help your understanding.\n",
    "- Perform the above two steps for a number of different cluster counts. You can then see how the average distance decreases with an increasing number of clusters. However, each additional cluster provides a smaller net benefit. Use this fact to select a final number of clusters in which to group the data. **Warning**: because of the large size of the dataset, it can take a long time for the algorithm to resolve. The more clusters to fit, the longer the algorithm will take. You should test for cluster counts through at least 10 clusters to get the full picture, but you shouldn't need to test for a number of clusters above about 30.\n",
    "- Once you've selected a final number of clusters to use, re-fit a KMeans instance to perform the clustering operation. Make sure that you also obtain the cluster assignments for the general demographics data, since you'll be using them in the final Step 3.3."
   ]
  },
  {
   "cell_type": "code",
   "execution_count": 36,
   "metadata": {},
   "outputs": [
    {
     "data": {
      "image/png": "[encoded data removed]",
      "text/plain": [
       "<matplotlib.figure.Figure at 0x7fa0108e3240>"
      ]
     },
     "metadata": {
      "needs_background": "light"
     },
     "output_type": "display_data"
    }
   ],
   "source": [
    "from sklearn.cluster import KMeans\n",
    "\n",
    "cluster_counts = range(2, 12)\n",
    "average_distances = []\n",
    "\n",
    "# Fit the KMeans model to the numerical data\n",
    "kmeans = KMeans(random_state=42)\n",
    "kmeans.fit(data_transformed)\n",
    "\n",
    "for n_clusters in cluster_counts:\n",
    "    # Update the number of clusters\n",
    "    kmeans.set_params(n_clusters=n_clusters)\n",
    "    \n",
    "    # Compute the average within-cluster distances using the negative score value\n",
    "    average_distance = -kmeans.score(data_transformed)\n",
    "    \n",
    "    # Append the average distance to the list\n",
    "    average_distances.append(average_distance)\n",
    "\n",
    "# Plot the average distances\n",
    "plt.plot(cluster_counts, average_distances, marker='o')\n",
    "plt.xlabel('Number of Clusters')\n",
    "plt.ylabel('Avg Distance')\n",
    "plt.title('Avg Distance vs. Number of Clusters')\n",
    "plt.show()\n",
    "\n",
    "# Choose the final number of clusters\n",
    "final_num_clusters = 10\n",
    "kmeans_final = KMeans(n_clusters=final_num_clusters, random_state=42)\n",
    "kmeans_final.fit(data_transformed)\n",
    "\n",
    "# Get the cluster assignments\n",
    "cluster_assignments = kmeans_final.predict(data_transformed)"
   ]
  },
  {
   "cell_type": "code",
   "execution_count": 37,
   "metadata": {},
   "outputs": [
    {
     "data": {
      "image/png": "[encoded data removed]",
      "text/plain": [
       "<matplotlib.figure.Figure at 0x7f9ff2117160>"
      ]
     },
     "metadata": {
      "needs_background": "light"
     },
     "output_type": "display_data"
    }
   ],
   "source": [
    "# Investigate the change in within-cluster distance across number of clusters.\n",
    "# HINT: Use matplotlib's plot function to visualize this relationship.\n",
    "distances = []\n",
    "for num_clusters in cluster_counts:\n",
    "    # Initialize the KMeans model with the current number of clusters\n",
    "    kmeans = KMeans(n_clusters=num_clusters, random_state=42)\n",
    "    \n",
    "    # Fit the model to the data\n",
    "    cluster_assignments = cluster_assignments.reshape(-1, 1)\n",
    "    kmeans.fit(cluster_assignments)\n",
    "    \n",
    "    # Append the within-cluster distance to the list\n",
    "    distances.append(kmeans.inertia_)\n",
    "\n",
    "# Plot the within-cluster distances against the number of clusters\n",
    "plt.plot(cluster_counts, distances, marker='o')\n",
    "plt.xlabel('Number of Clusters')\n",
    "plt.ylabel('Within-Cluster Distance')\n",
    "plt.title('Within-Cluster Distance vs. Number of Clusters')\n",
    "plt.show()"
   ]
  },
  {
   "cell_type": "code",
   "execution_count": 38,
   "metadata": {},
   "outputs": [],
   "source": [
    "# Re-fit the k-means model with the selected number of clusters and obtain\n",
    "# cluster predictions for the general population demographics data.\n",
    "from sklearn.cluster import KMeans\n",
    "kmeans = KMeans(n_clusters=final_num_clusters)\n",
    "\n",
    "# Fit the k-means model to the general population demographics data\n",
    "kmeans.fit(data_transformed)\n",
    "\n",
    "# Obtain cluster predictions for the general population demographics data\n",
    "cluster_predictions = kmeans.predict(data_transformed)"
   ]
  },
  {
   "cell_type": "markdown",
   "metadata": {},
   "source": [
    "### Discussion 3.1: Apply Clustering to General Population\n",
    "\n",
    "(Double-click this cell and replace this text with your own text, reporting your findings and decisions regarding clustering. Into how many clusters have you decided to segment the population?)"
   ]
  },
  {
   "cell_type": "markdown",
   "metadata": {},
   "source": [
    "### Step 3.2: Apply All Steps to the Customer Data\n",
    "\n",
    "Now that you have clusters and cluster centers for the general population, it's time to see how the customer data maps on to those clusters. Take care to not confuse this for re-fitting all of the models to the customer data. Instead, you're going to use the fits from the general population to clean, transform, and cluster the customer data. In the last step of the project, you will interpret how the general population fits apply to the customer data.\n",
    "\n",
    "- Don't forget when loading in the customers data, that it is semicolon (`;`) delimited.\n",
    "- Apply the same feature wrangling, selection, and engineering steps to the customer demographics using the `clean_data()` function you created earlier. (You can assume that the customer demographics data has similar meaning behind missing data patterns as the general demographics data.)\n",
    "- Use the sklearn objects from the general demographics data, and apply their transformations to the customers data. That is, you should not be using a `.fit()` or `.fit_transform()` method to re-fit the old objects, nor should you be creating new sklearn objects! Carry the data through the feature scaling, PCA, and clustering steps, obtaining cluster assignments for all of the data in the customer demographics data."
   ]
  },
  {
   "cell_type": "code",
   "execution_count": 39,
   "metadata": {},
   "outputs": [
    {
     "data": {
      "text/html": [
       "<div>\n",
       "<style scoped>\n",
       "    .dataframe tbody tr th:only-of-type {\n",
       "        vertical-align: middle;\n",
       "    }\n",
       "\n",
       "    .dataframe tbody tr th {\n",
       "        vertical-align: top;\n",
       "    }\n",
       "\n",
       "    .dataframe thead th {\n",
       "        text-align: right;\n",
       "    }\n",
       "</style>\n",
       "<table border=\"1\" class=\"dataframe\">\n",
       "  <thead>\n",
       "    <tr style=\"text-align: right;\">\n",
       "      <th></th>\n",
       "      <th>AGER_TYP</th>\n",
       "      <th>ALTERSKATEGORIE_GROB</th>\n",
       "      <th>ANREDE_KZ</th>\n",
       "      <th>CJT_GESAMTTYP</th>\n",
       "      <th>FINANZ_MINIMALIST</th>\n",
       "      <th>FINANZ_SPARER</th>\n",
       "      <th>FINANZ_VORSORGER</th>\n",
       "      <th>FINANZ_ANLEGER</th>\n",
       "      <th>FINANZ_UNAUFFAELLIGER</th>\n",
       "      <th>FINANZ_HAUSBAUER</th>\n",
       "      <th>...</th>\n",
       "      <th>PLZ8_ANTG1</th>\n",
       "      <th>PLZ8_ANTG2</th>\n",
       "      <th>PLZ8_ANTG3</th>\n",
       "      <th>PLZ8_ANTG4</th>\n",
       "      <th>PLZ8_BAUMAX</th>\n",
       "      <th>PLZ8_HHZ</th>\n",
       "      <th>PLZ8_GBZ</th>\n",
       "      <th>ARBEIT</th>\n",
       "      <th>ORTSGR_KLS9</th>\n",
       "      <th>RELAT_AB</th>\n",
       "    </tr>\n",
       "  </thead>\n",
       "  <tbody>\n",
       "    <tr>\n",
       "      <th>0</th>\n",
       "      <td>2</td>\n",
       "      <td>4</td>\n",
       "      <td>1</td>\n",
       "      <td>5.0</td>\n",
       "      <td>5</td>\n",
       "      <td>1</td>\n",
       "      <td>5</td>\n",
       "      <td>1</td>\n",
       "      <td>2</td>\n",
       "      <td>2</td>\n",
       "      <td>...</td>\n",
       "      <td>3.0</td>\n",
       "      <td>3.0</td>\n",
       "      <td>1.0</td>\n",
       "      <td>0.0</td>\n",
       "      <td>1.0</td>\n",
       "      <td>5.0</td>\n",
       "      <td>5.0</td>\n",
       "      <td>1.0</td>\n",
       "      <td>2.0</td>\n",
       "      <td>1.0</td>\n",
       "    </tr>\n",
       "    <tr>\n",
       "      <th>1</th>\n",
       "      <td>-1</td>\n",
       "      <td>4</td>\n",
       "      <td>1</td>\n",
       "      <td>NaN</td>\n",
       "      <td>5</td>\n",
       "      <td>1</td>\n",
       "      <td>5</td>\n",
       "      <td>1</td>\n",
       "      <td>3</td>\n",
       "      <td>2</td>\n",
       "      <td>...</td>\n",
       "      <td>NaN</td>\n",
       "      <td>NaN</td>\n",
       "      <td>NaN</td>\n",
       "      <td>NaN</td>\n",
       "      <td>NaN</td>\n",
       "      <td>NaN</td>\n",
       "      <td>NaN</td>\n",
       "      <td>NaN</td>\n",
       "      <td>NaN</td>\n",
       "      <td>NaN</td>\n",
       "    </tr>\n",
       "    <tr>\n",
       "      <th>2</th>\n",
       "      <td>-1</td>\n",
       "      <td>4</td>\n",
       "      <td>2</td>\n",
       "      <td>2.0</td>\n",
       "      <td>5</td>\n",
       "      <td>1</td>\n",
       "      <td>5</td>\n",
       "      <td>1</td>\n",
       "      <td>4</td>\n",
       "      <td>4</td>\n",
       "      <td>...</td>\n",
       "      <td>2.0</td>\n",
       "      <td>3.0</td>\n",
       "      <td>3.0</td>\n",
       "      <td>1.0</td>\n",
       "      <td>3.0</td>\n",
       "      <td>3.0</td>\n",
       "      <td>2.0</td>\n",
       "      <td>3.0</td>\n",
       "      <td>5.0</td>\n",
       "      <td>3.0</td>\n",
       "    </tr>\n",
       "    <tr>\n",
       "      <th>3</th>\n",
       "      <td>1</td>\n",
       "      <td>4</td>\n",
       "      <td>1</td>\n",
       "      <td>2.0</td>\n",
       "      <td>5</td>\n",
       "      <td>1</td>\n",
       "      <td>5</td>\n",
       "      <td>2</td>\n",
       "      <td>1</td>\n",
       "      <td>2</td>\n",
       "      <td>...</td>\n",
       "      <td>3.0</td>\n",
       "      <td>2.0</td>\n",
       "      <td>1.0</td>\n",
       "      <td>0.0</td>\n",
       "      <td>1.0</td>\n",
       "      <td>3.0</td>\n",
       "      <td>4.0</td>\n",
       "      <td>1.0</td>\n",
       "      <td>3.0</td>\n",
       "      <td>1.0</td>\n",
       "    </tr>\n",
       "    <tr>\n",
       "      <th>4</th>\n",
       "      <td>-1</td>\n",
       "      <td>3</td>\n",
       "      <td>1</td>\n",
       "      <td>6.0</td>\n",
       "      <td>3</td>\n",
       "      <td>1</td>\n",
       "      <td>4</td>\n",
       "      <td>4</td>\n",
       "      <td>5</td>\n",
       "      <td>2</td>\n",
       "      <td>...</td>\n",
       "      <td>2.0</td>\n",
       "      <td>4.0</td>\n",
       "      <td>2.0</td>\n",
       "      <td>1.0</td>\n",
       "      <td>2.0</td>\n",
       "      <td>3.0</td>\n",
       "      <td>3.0</td>\n",
       "      <td>3.0</td>\n",
       "      <td>5.0</td>\n",
       "      <td>1.0</td>\n",
       "    </tr>\n",
       "  </tbody>\n",
       "</table>\n",
       "<p>5 rows × 85 columns</p>\n",
       "</div>"
      ],
      "text/plain": [
       "   AGER_TYP  ALTERSKATEGORIE_GROB  ANREDE_KZ  CJT_GESAMTTYP  \\\n",
       "0         2                     4          1            5.0   \n",
       "1        -1                     4          1            NaN   \n",
       "2        -1                     4          2            2.0   \n",
       "3         1                     4          1            2.0   \n",
       "4        -1                     3          1            6.0   \n",
       "\n",
       "   FINANZ_MINIMALIST  FINANZ_SPARER  FINANZ_VORSORGER  FINANZ_ANLEGER  \\\n",
       "0                  5              1                 5               1   \n",
       "1                  5              1                 5               1   \n",
       "2                  5              1                 5               1   \n",
       "3                  5              1                 5               2   \n",
       "4                  3              1                 4               4   \n",
       "\n",
       "   FINANZ_UNAUFFAELLIGER  FINANZ_HAUSBAUER    ...     PLZ8_ANTG1  PLZ8_ANTG2  \\\n",
       "0                      2                 2    ...            3.0         3.0   \n",
       "1                      3                 2    ...            NaN         NaN   \n",
       "2                      4                 4    ...            2.0         3.0   \n",
       "3                      1                 2    ...            3.0         2.0   \n",
       "4                      5                 2    ...            2.0         4.0   \n",
       "\n",
       "   PLZ8_ANTG3  PLZ8_ANTG4  PLZ8_BAUMAX  PLZ8_HHZ  PLZ8_GBZ  ARBEIT  \\\n",
       "0         1.0         0.0          1.0       5.0       5.0     1.0   \n",
       "1         NaN         NaN          NaN       NaN       NaN     NaN   \n",
       "2         3.0         1.0          3.0       3.0       2.0     3.0   \n",
       "3         1.0         0.0          1.0       3.0       4.0     1.0   \n",
       "4         2.0         1.0          2.0       3.0       3.0     3.0   \n",
       "\n",
       "   ORTSGR_KLS9  RELAT_AB  \n",
       "0          2.0       1.0  \n",
       "1          NaN       NaN  \n",
       "2          5.0       3.0  \n",
       "3          3.0       1.0  \n",
       "4          5.0       1.0  \n",
       "\n",
       "[5 rows x 85 columns]"
      ]
     },
     "execution_count": 39,
     "metadata": {},
     "output_type": "execute_result"
    }
   ],
   "source": [
    "# Load in the customer demographics data.\n",
    "import pandas as pd\n",
    "import numpy as np\n",
    "import matplotlib.pyplot as plt\n",
    "import seaborn as sns\n",
    "\n",
    "\n",
    "customers = pd.read_csv('Udacity_CUSTOMERS_Subset.csv', delimiter=';')\n",
    "\n",
    "customers.head()"
   ]
  },
  {
   "cell_type": "code",
   "execution_count": null,
   "metadata": {},
   "outputs": [],
   "source": []
  },
  {
   "cell_type": "code",
   "execution_count": 40,
   "metadata": {
    "scrolled": true
   },
   "outputs": [
    {
     "name": "stdout",
     "output_type": "stream",
     "text": [
      "ZABEOTYP\n"
     ]
    },
    {
     "data": {
      "image/png": "[encoded data removed]",
      "text/plain": [
       "<matplotlib.figure.Figure at 0x7fa00f3c53c8>"
      ]
     },
     "metadata": {
      "needs_background": "light"
     },
     "output_type": "display_data"
    },
    {
     "name": "stdout",
     "output_type": "stream",
     "text": [
      "SEMIO_REL\n"
     ]
    },
    {
     "data": {
      "image/png": "[encoded data removed]",
      "text/plain": [
       "<matplotlib.figure.Figure at 0x7fa0000490f0>"
      ]
     },
     "metadata": {
      "needs_background": "light"
     },
     "output_type": "display_data"
    },
    {
     "name": "stdout",
     "output_type": "stream",
     "text": [
      "SEMIO_MAT\n"
     ]
    },
    {
     "data": {
      "image/png": "[encoded data removed]",
      "text/plain": [
       "<matplotlib.figure.Figure at 0x7fa00f485198>"
      ]
     },
     "metadata": {
      "needs_background": "light"
     },
     "output_type": "display_data"
    },
    {
     "name": "stdout",
     "output_type": "stream",
     "text": [
      "SEMIO_VERT\n"
     ]
    },
    {
     "data": {
      "image/png": "[encoded data removed]",
      "text/plain": [
       "<matplotlib.figure.Figure at 0x7fa0113ff9b0>"
      ]
     },
     "metadata": {
      "needs_background": "light"
     },
     "output_type": "display_data"
    },
    {
     "name": "stdout",
     "output_type": "stream",
     "text": [
      "SEMIO_LUST\n"
     ]
    },
    {
     "data": {
      "image/png": "[encoded data removed]",
      "text/plain": [
       "<matplotlib.figure.Figure at 0x7f9ffff29f60>"
      ]
     },
     "metadata": {
      "needs_background": "light"
     },
     "output_type": "display_data"
    },
    {
     "name": "stdout",
     "output_type": "stream",
     "text": [
      "{'KKK', 'REGIOTYP'}\n",
      "extra columns: {'OST_WEST_KZ'}\n"
     ]
    }
   ],
   "source": [
    "# Apply preprocessing, feature transformation, and clustering from the general\n",
    "# demographics onto the customer data, obtaining cluster predictions for the\n",
    "# customer demographics data.\n",
    "\n",
    "customers_cleaned = clean_data(customers, feat_info_copy)\n",
    "\n",
    "def add_missing_dummy_columns(d, columns):\n",
    "    missing_cols = set(columns) - set(d.columns)\n",
    "    print(missing_cols)\n",
    "    for c in missing_cols:\n",
    "        d[c] = 0\n",
    "           \n",
    "def fix_columns(d, columns):  \n",
    "    add_missing_dummy_columns(d, columns)\n",
    "    # make sure we have all the columns we need\n",
    "    assert(set(columns) - set(d.columns) == set())\n",
    "    extra_cols = set(d.columns) - set(columns)\n",
    "    if extra_cols:\n",
    "        print(\"extra columns:\", extra_cols)\n",
    "    d = d[columns]\n",
    "    return d\n",
    "\n",
    "customers_cleaned = fix_columns(customers_cleaned, azdias.columns.tolist())\n",
    "\n",
    "customers_imputed = imputer.transform(customers_cleaned)\n",
    "\n",
    "\n",
    "# Scale the customer data using the same scaler object from the general demographics\n",
    "scaled_customers = scaler.transform(customers_imputed)\n",
    "\n",
    "# Perform dimensionality reduction on the scaled customer data using the same PCA object from the general demographics\n",
    "pca_transformed_customers = pca.transform(scaled_customers)\n",
    "\n",
    "# Make cluster predictions on the transformed customer data using the same KMeans object from the general demographics\n",
    "cluster_assignments_customers = kmeans.predict(pca_transformed_customers)"
   ]
  },
  {
   "cell_type": "code",
   "execution_count": null,
   "metadata": {},
   "outputs": [],
   "source": []
  },
  {
   "cell_type": "markdown",
   "metadata": {},
   "source": [
    "### Step 3.3: Compare Customer Data to Demographics Data\n",
    "\n",
    "At this point, you have clustered data based on demographics of the general population of Germany, and seen how the customer data for a mail-order sales company maps onto those demographic clusters. In this final substep, you will compare the two cluster distributions to see where the strongest customer base for the company is.\n",
    "\n",
    "Consider the proportion of persons in each cluster for the general population, and the proportions for the customers. If we think the company's customer base to be universal, then the cluster assignment proportions should be fairly similar between the two. If there are only particular segments of the population that are interested in the company's products, then we should see a mismatch from one to the other. If there is a higher proportion of persons in a cluster for the customer data compared to the general population (e.g. 5% of persons are assigned to a cluster for the general population, but 15% of the customer data is closest to that cluster's centroid) then that suggests the people in that cluster to be a target audience for the company. On the other hand, the proportion of the data in a cluster being larger in the general population than the customer data (e.g. only 2% of customers closest to a population centroid that captures 6% of the data) suggests that group of persons to be outside of the target demographics.\n",
    "\n",
    "Take a look at the following points in this step:\n",
    "\n",
    "- Compute the proportion of data points in each cluster for the general population and the customer data. Visualizations will be useful here: both for the individual dataset proportions, but also to visualize the ratios in cluster representation between groups. Seaborn's [`countplot()`](https://seaborn.pydata.org/generated/seaborn.countplot.html) or [`barplot()`](https://seaborn.pydata.org/generated/seaborn.barplot.html) function could be handy.\n",
    "  - Recall the analysis you performed in step 1.1.3 of the project, where you separated out certain data points from the dataset if they had more than a specified threshold of missing values. If you found that this group was qualitatively different from the main bulk of the data, you should treat this as an additional data cluster in this analysis. Make sure that you account for the number of data points in this subset, for both the general population and customer datasets, when making your computations!\n",
    "- Which cluster or clusters are overrepresented in the customer dataset compared to the general population? Select at least one such cluster and infer what kind of people might be represented by that cluster. Use the principal component interpretations from step 2.3 or look at additional components to help you make this inference. Alternatively, you can use the `.inverse_transform()` method of the PCA and StandardScaler objects to transform centroids back to the original data space and interpret the retrieved values directly.\n",
    "- Perform a similar investigation for the underrepresented clusters. Which cluster or clusters are underrepresented in the customer dataset compared to the general population, and what kinds of people are typified by these clusters?"
   ]
  },
  {
   "cell_type": "code",
   "execution_count": 41,
   "metadata": {},
   "outputs": [
    {
     "data": {
      "image/png": "[encoded data removed]",
      "text/plain": [
       "<matplotlib.figure.Figure at 0x7fa00f41a0b8>"
      ]
     },
     "metadata": {
      "needs_background": "light"
     },
     "output_type": "display_data"
    }
   ],
   "source": [
    "# Compare the proportion of data in each cluster for the customer data to the\n",
    "# proportion of data in each cluster for the general population.\n",
    "\n",
    "import seaborn as sns\n",
    "\n",
    "cluster_assignments = cluster_assignments.reshape(-1)\n",
    "\n",
    "\n",
    "fig, axs = plt.subplots(1, 2, figsize=(10, 5))\n",
    "\n",
    "# Plot the count of customer clusters\n",
    "sns.countplot(x=cluster_assignments_customers, ax=axs[0])\n",
    "axs[0].set_title('Customer Data')\n",
    "\n",
    "# Plot the count of general clusters\n",
    "sns.countplot(x=cluster_assignments, ax=axs[1])\n",
    "axs[1].set_title('General Population Data')\n",
    "\n",
    "plt.show()"
   ]
  },
  {
   "cell_type": "code",
   "execution_count": 42,
   "metadata": {},
   "outputs": [
    {
     "name": "stdout",
     "output_type": "stream",
     "text": [
      "(191652, 71)\n"
     ]
    }
   ],
   "source": [
    "print(scaled_customers.shape)"
   ]
  },
  {
   "cell_type": "code",
   "execution_count": 43,
   "metadata": {},
   "outputs": [
    {
     "ename": "ValueError",
     "evalue": "Incorrect number of features. Got 71 features, expected 32",
     "output_type": "error",
     "traceback": [
      "\u001b[0;31m---------------------------------------------------------------------------\u001b[0m",
      "\u001b[0;31mValueError\u001b[0m                                Traceback (most recent call last)",
      "\u001b[0;32m<ipython-input-43-10daeacbf7fa>\u001b[0m in \u001b[0;36m<module>\u001b[0;34m()\u001b[0m\n\u001b[1;32m      2\u001b[0m \u001b[0;31m# customer data compared to the general population?\u001b[0m\u001b[0;34m\u001b[0m\u001b[0;34m\u001b[0m\u001b[0m\n\u001b[1;32m      3\u001b[0m \u001b[0;34m\u001b[0m\u001b[0m\n\u001b[0;32m----> 4\u001b[0;31m \u001b[0mcustomer_clusters\u001b[0m \u001b[0;34m=\u001b[0m \u001b[0mkmeans\u001b[0m\u001b[0;34m.\u001b[0m\u001b[0mpredict\u001b[0m\u001b[0;34m(\u001b[0m\u001b[0mscaled_customers\u001b[0m\u001b[0;34m)\u001b[0m\u001b[0;34m\u001b[0m\u001b[0m\n\u001b[0m\u001b[1;32m      5\u001b[0m \u001b[0;34m\u001b[0m\u001b[0m\n\u001b[1;32m      6\u001b[0m \u001b[0;31m# Calculate the proportion of customers in each cluster\u001b[0m\u001b[0;34m\u001b[0m\u001b[0;34m\u001b[0m\u001b[0m\n",
      "\u001b[0;32m/opt/conda/lib/python3.6/site-packages/sklearn/cluster/k_means_.py\u001b[0m in \u001b[0;36mpredict\u001b[0;34m(self, X)\u001b[0m\n\u001b[1;32m    986\u001b[0m         \u001b[0mcheck_is_fitted\u001b[0m\u001b[0;34m(\u001b[0m\u001b[0mself\u001b[0m\u001b[0;34m,\u001b[0m \u001b[0;34m'cluster_centers_'\u001b[0m\u001b[0;34m)\u001b[0m\u001b[0;34m\u001b[0m\u001b[0m\n\u001b[1;32m    987\u001b[0m \u001b[0;34m\u001b[0m\u001b[0m\n\u001b[0;32m--> 988\u001b[0;31m         \u001b[0mX\u001b[0m \u001b[0;34m=\u001b[0m \u001b[0mself\u001b[0m\u001b[0;34m.\u001b[0m\u001b[0m_check_test_data\u001b[0m\u001b[0;34m(\u001b[0m\u001b[0mX\u001b[0m\u001b[0;34m)\u001b[0m\u001b[0;34m\u001b[0m\u001b[0m\n\u001b[0m\u001b[1;32m    989\u001b[0m         \u001b[0mx_squared_norms\u001b[0m \u001b[0;34m=\u001b[0m \u001b[0mrow_norms\u001b[0m\u001b[0;34m(\u001b[0m\u001b[0mX\u001b[0m\u001b[0;34m,\u001b[0m \u001b[0msquared\u001b[0m\u001b[0;34m=\u001b[0m\u001b[0;32mTrue\u001b[0m\u001b[0;34m)\u001b[0m\u001b[0;34m\u001b[0m\u001b[0m\n\u001b[1;32m    990\u001b[0m         \u001b[0;32mreturn\u001b[0m \u001b[0m_labels_inertia\u001b[0m\u001b[0;34m(\u001b[0m\u001b[0mX\u001b[0m\u001b[0;34m,\u001b[0m \u001b[0mx_squared_norms\u001b[0m\u001b[0;34m,\u001b[0m \u001b[0mself\u001b[0m\u001b[0;34m.\u001b[0m\u001b[0mcluster_centers_\u001b[0m\u001b[0;34m)\u001b[0m\u001b[0;34m[\u001b[0m\u001b[0;36m0\u001b[0m\u001b[0;34m]\u001b[0m\u001b[0;34m\u001b[0m\u001b[0m\n",
      "\u001b[0;32m/opt/conda/lib/python3.6/site-packages/sklearn/cluster/k_means_.py\u001b[0m in \u001b[0;36m_check_test_data\u001b[0;34m(self, X)\u001b[0m\n\u001b[1;32m    869\u001b[0m             raise ValueError(\"Incorrect number of features. \"\n\u001b[1;32m    870\u001b[0m                              \"Got %d features, expected %d\" % (\n\u001b[0;32m--> 871\u001b[0;31m                                  n_features, expected_n_features))\n\u001b[0m\u001b[1;32m    872\u001b[0m \u001b[0;34m\u001b[0m\u001b[0m\n\u001b[1;32m    873\u001b[0m         \u001b[0;32mreturn\u001b[0m \u001b[0mX\u001b[0m\u001b[0;34m\u001b[0m\u001b[0m\n",
      "\u001b[0;31mValueError\u001b[0m: Incorrect number of features. Got 71 features, expected 32"
     ]
    }
   ],
   "source": [
    "# What kinds of people are part of a cluster that is overrepresented in the\n",
    "# customer data compared to the general population?\n",
    "\n",
    "customer_clusters = kmeans.predict(scaled_customers)\n",
    "\n",
    "# Calculate the proportion of customers in each cluster\n",
    "customer_cluster_counts = pd.Series(customer_clusters).value_counts() / len(scaled_customers)\n",
    "\n",
    "# Perform clustering analysis on general population data\n",
    "population_clusters = kmeans.predict(population_scaled)\n",
    "\n",
    "# Calculate the proportion of general population in each cluster\n",
    "population_cluster_counts = pd.Series(population_clusters).value_counts() / len(population_scaled)\n",
    "\n",
    "# Compare the proportions of each cluster between customer and general population data\n",
    "overrepresented_clusters = customer_cluster_counts / population_cluster_counts\n",
    "\n",
    "# Identify the cluster(s) that are overrepresented in the customer data\n",
    "overrepresented_cluster = overrepresented_clusters[overrepresented_clusters > 1]\n",
    "\n",
    "# Analyze the characteristics of the individuals within the overrepresented cluster(s)\n",
    "overrepresented_cluster_data = customers_df[customer_clusters == overrepresented_cluster.index[0]]"
   ]
  },
  {
   "cell_type": "code",
   "execution_count": null,
   "metadata": {},
   "outputs": [],
   "source": [
    "# What kinds of people are part of a cluster that is underrepresented in the\n",
    "# customer data compared to the general population?\n",
    "\n",
    "general_population_proportions = general_population_cluster_counts / len(general_population)\n",
    "customer_data_proportions = customer_data_cluster_counts / len(customer_data)\n",
    "\n",
    "# Find the cluster that is underrepresented in the customer data\n",
    "underrepresented_cluster = np.argmin(customer_data_proportions)\n",
    "\n",
    "# Compare the demographic and behavioral characteristics of the underrepresented cluster with the general population\n",
    "underrepresented_cluster_data = general_population[general_population['Cluster'] == underrepresented_cluster]\n",
    "\n",
    "# Analyze the features that contribute the most to the differences between the underrepresented cluster and the general population\n",
    "feature_importances = clf.feature_importances_\n",
    "important_features = feature_names[np.argsort(feature_importances)[::-1]]\n",
    "\n",
    "print(\"Important Features:\")\n",
    "for feature in important_features:\n",
    "    print(feature)\n"
   ]
  },
  {
   "cell_type": "markdown",
   "metadata": {},
   "source": [
    "### Discussion 3.3: Compare Customer Data to Demographics Data\n",
    "\n",
    "(Double-click this cell and replace this text with your own text, reporting findings and conclusions from the clustering analysis. Can we describe segments of the population that are relatively popular with the mail-order company, or relatively unpopular with the company?)"
   ]
  },
  {
   "cell_type": "markdown",
   "metadata": {},
   "source": [
    "> Congratulations on making it this far in the project! Before you finish, make sure to check through the entire notebook from top to bottom to make sure that your analysis follows a logical flow and all of your findings are documented in **Discussion** cells. Once you've checked over all of your work, you should export the notebook as an HTML document to submit for evaluation. You can do this from the menu, navigating to **File -> Download as -> HTML (.html)**. You will submit both that document and this notebook for your project submission."
   ]
  },
  {
   "cell_type": "code",
   "execution_count": null,
   "metadata": {},
   "outputs": [],
   "source": []
  },
  {
   "cell_type": "code",
   "execution_count": null,
   "metadata": {},
   "outputs": [],
   "source": []
  }
 ],
 "metadata": {
  "kernelspec": {
   "display_name": "Python 3",
   "language": "python",
   "name": "python3"
  },
  "language_info": {
   "codemirror_mode": {
    "name": "ipython",
    "version": 3
   },
   "file_extension": ".py",
   "mimetype": "text/x-python",
   "name": "python",
   "nbconvert_exporter": "python",
   "pygments_lexer": "ipython3",
   "version": "3.6.3"
  }
 },
 "nbformat": 4,
 "nbformat_minor": 2
}
